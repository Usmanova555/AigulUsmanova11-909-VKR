{
  "nbformat": 4,
  "nbformat_minor": 0,
  "metadata": {
    "colab": {
      "provenance": []
    },
    "kernelspec": {
      "name": "python3",
      "display_name": "Python 3"
    },
    "language_info": {
      "name": "python"
    }
  },
  "cells": [
    {
      "cell_type": "code",
      "execution_count": null,
      "metadata": {
        "colab": {
          "base_uri": "https://localhost:8080/"
        },
        "id": "1uCk-XxiJ5j4",
        "outputId": "a4a958ef-dbc6-4c76-b649-e181326ea346"
      },
      "outputs": [
        {
          "output_type": "stream",
          "name": "stdout",
          "text": [
            "Looking in indexes: https://pypi.org/simple, https://us-python.pkg.dev/colab-wheels/public/simple/\n",
            "Requirement already satisfied: pytorch-tabnet in /usr/local/lib/python3.9/dist-packages (4.0)\n",
            "Requirement already satisfied: torch<2.0,>=1.2 in /usr/local/lib/python3.9/dist-packages (from pytorch-tabnet) (1.13.1)\n",
            "Requirement already satisfied: scikit_learn>0.21 in /usr/local/lib/python3.9/dist-packages (from pytorch-tabnet) (1.2.2)\n",
            "Requirement already satisfied: tqdm<5.0,>=4.36 in /usr/local/lib/python3.9/dist-packages (from pytorch-tabnet) (4.65.0)\n",
            "Requirement already satisfied: scipy>1.4 in /usr/local/lib/python3.9/dist-packages (from pytorch-tabnet) (1.10.1)\n",
            "Requirement already satisfied: numpy<2.0,>=1.17 in /usr/local/lib/python3.9/dist-packages (from pytorch-tabnet) (1.22.4)\n",
            "Requirement already satisfied: threadpoolctl>=2.0.0 in /usr/local/lib/python3.9/dist-packages (from scikit_learn>0.21->pytorch-tabnet) (3.1.0)\n",
            "Requirement already satisfied: joblib>=1.1.1 in /usr/local/lib/python3.9/dist-packages (from scikit_learn>0.21->pytorch-tabnet) (1.2.0)\n",
            "Requirement already satisfied: nvidia-cudnn-cu11==8.5.0.96 in /usr/local/lib/python3.9/dist-packages (from torch<2.0,>=1.2->pytorch-tabnet) (8.5.0.96)\n",
            "Requirement already satisfied: nvidia-cublas-cu11==11.10.3.66 in /usr/local/lib/python3.9/dist-packages (from torch<2.0,>=1.2->pytorch-tabnet) (11.10.3.66)\n",
            "Requirement already satisfied: nvidia-cuda-runtime-cu11==11.7.99 in /usr/local/lib/python3.9/dist-packages (from torch<2.0,>=1.2->pytorch-tabnet) (11.7.99)\n",
            "Requirement already satisfied: nvidia-cuda-nvrtc-cu11==11.7.99 in /usr/local/lib/python3.9/dist-packages (from torch<2.0,>=1.2->pytorch-tabnet) (11.7.99)\n",
            "Requirement already satisfied: typing-extensions in /usr/local/lib/python3.9/dist-packages (from torch<2.0,>=1.2->pytorch-tabnet) (4.5.0)\n",
            "Requirement already satisfied: wheel in /usr/local/lib/python3.9/dist-packages (from nvidia-cublas-cu11==11.10.3.66->torch<2.0,>=1.2->pytorch-tabnet) (0.40.0)\n",
            "Requirement already satisfied: setuptools in /usr/local/lib/python3.9/dist-packages (from nvidia-cublas-cu11==11.10.3.66->torch<2.0,>=1.2->pytorch-tabnet) (67.7.2)\n"
          ]
        }
      ],
      "source": [
        "!pip install pytorch-tabnet\n",
        "import pandas as pd\n",
        "import numpy  as np\n",
        "from pytorch_tabnet.tab_model import TabNetRegressor\n",
        "from sklearn.model_selection import KFold "
      ]
    },
    {
      "cell_type": "code",
      "source": [
        "train_data = pd.read_csv('Table 1.csv')\n",
        "test_data  = pd.read_csv('Table 2.csv') \n",
        "sample     = pd.read_csv('Table 1.csv') \n",
        "solution   = pd.read_csv('Table 1.csv') "
      ],
      "metadata": {
        "id": "2tHOBCS0KEGj"
      },
      "execution_count": null,
      "outputs": []
    },
    {
      "cell_type": "code",
      "source": [
        "features = ['order_id', 'product_id', 'category_id', 'price']"
      ],
      "metadata": {
        "id": "Qe3nZUY7KGfJ"
      },
      "execution_count": null,
      "outputs": []
    },
    {
      "cell_type": "code",
      "source": [
        "X      = train_data[features]\n",
        "y      = np.log1p(train_data[\"order_id\"])\n",
        "X_test = test_data[features]\n",
        "y_true = solution[\"order_id\"]"
      ],
      "metadata": {
        "id": "UmogyhIQKI52"
      },
      "execution_count": null,
      "outputs": []
    },
    {
      "cell_type": "code",
      "source": [
        "X      =      X.apply(lambda x: x.fillna(x.mean()),axis=0)\n",
        "X_test = X_test.apply(lambda x: x.fillna(x.mean()),axis=0)"
      ],
      "metadata": {
        "id": "1TIincYzKKdS"
      },
      "execution_count": null,
      "outputs": []
    },
    {
      "cell_type": "code",
      "source": [
        "X      = X.to_numpy()\n",
        "y      = y.to_numpy().reshape(-1, 1)\n",
        "X_test = X_test.to_numpy()"
      ],
      "metadata": {
        "id": "fKwy6DaYKNKN"
      },
      "execution_count": null,
      "outputs": []
    },
    {
      "cell_type": "code",
      "source": [
        "kf = KFold(n_splits=5, random_state=42, shuffle=True)\n",
        "predictions_array =[]\n",
        "CV_score_array    =[]\n",
        "for train_index, test_index in kf.split(X):\n",
        "    X_train, X_valid = X[train_index], X[test_index]\n",
        "    y_train, y_valid = y[train_index], y[test_index]\n",
        "    regressor = TabNetRegressor(verbose=0,seed=42)\n",
        "    regressor.fit(X_train=X_train, y_train=y_train,\n",
        "              eval_set=[(X_valid, y_valid)],\n",
        "              patience=100, max_epochs=400,\n",
        "              eval_metric=['rmse'])\n",
        "    CV_score_array.append(regressor.best_cost)\n",
        "    predictions_array.append(np.expm1(regressor.predict(X_test)))\n",
        "\n",
        "predictions = np.mean(predictions_array,axis=0)\n",
        "with open('file.csv', 'w') as f:\n",
        "    for i in range(len(predictions)):\n",
        "        f.write(str(predictions[i]))\n",
        "\n",
        "# CV_score_array = [0.029263964438688807, 0.037366541157093786, 0.04662104266543657, 0.019538891973906628, 0.05033337924673994]"
      ],
      "metadata": {
        "id": "F4QZ8lPlKNl1",
        "colab": {
          "base_uri": "https://localhost:8080/"
        },
        "outputId": "c4b907a3-27e2-447d-db85-e6bb94ca7b82"
      },
      "execution_count": null,
      "outputs": [
        {
          "output_type": "stream",
          "name": "stdout",
          "text": [
            "Stop training because you reached max_epochs = 400 with best_epoch = 338 and best_val_0_rmse = 0.02926\n"
          ]
        },
        {
          "output_type": "stream",
          "name": "stderr",
          "text": [
            "/usr/local/lib/python3.9/dist-packages/pytorch_tabnet/callbacks.py:172: UserWarning: Best weights from best epoch are automatically used!\n",
            "  warnings.warn(wrn_msg)\n"
          ]
        },
        {
          "output_type": "stream",
          "name": "stdout",
          "text": [
            "Stop training because you reached max_epochs = 400 with best_epoch = 367 and best_val_0_rmse = 0.03737\n"
          ]
        },
        {
          "output_type": "stream",
          "name": "stderr",
          "text": [
            "/usr/local/lib/python3.9/dist-packages/pytorch_tabnet/callbacks.py:172: UserWarning: Best weights from best epoch are automatically used!\n",
            "  warnings.warn(wrn_msg)\n"
          ]
        },
        {
          "output_type": "stream",
          "name": "stdout",
          "text": [
            "Stop training because you reached max_epochs = 400 with best_epoch = 303 and best_val_0_rmse = 0.04662\n"
          ]
        },
        {
          "output_type": "stream",
          "name": "stderr",
          "text": [
            "/usr/local/lib/python3.9/dist-packages/pytorch_tabnet/callbacks.py:172: UserWarning: Best weights from best epoch are automatically used!\n",
            "  warnings.warn(wrn_msg)\n"
          ]
        },
        {
          "output_type": "stream",
          "name": "stdout",
          "text": [
            "Stop training because you reached max_epochs = 400 with best_epoch = 379 and best_val_0_rmse = 0.01954\n"
          ]
        },
        {
          "output_type": "stream",
          "name": "stderr",
          "text": [
            "/usr/local/lib/python3.9/dist-packages/pytorch_tabnet/callbacks.py:172: UserWarning: Best weights from best epoch are automatically used!\n",
            "  warnings.warn(wrn_msg)\n"
          ]
        },
        {
          "output_type": "stream",
          "name": "stdout",
          "text": [
            "\n",
            "Early stopping occurred at epoch 379 with best_epoch = 279 and best_val_0_rmse = 0.05033\n"
          ]
        },
        {
          "output_type": "stream",
          "name": "stderr",
          "text": [
            "/usr/local/lib/python3.9/dist-packages/pytorch_tabnet/callbacks.py:172: UserWarning: Best weights from best epoch are automatically used!\n",
            "  warnings.warn(wrn_msg)\n"
          ]
        }
      ]
    },
    {
      "cell_type": "markdown",
      "source": [
        "Перекрестная проверка (CV score) в основном используется в прикладном машинном обучении для оценки навыков модели машинного обучения на невидимых данных. То есть используется ограниченная выборка, для оценки ожидаемой работы модели в целом при использовании для прогнозирования данных, не используемых во время обучения модели"
      ],
      "metadata": {
        "id": "YbX2c0scXoZ3"
      }
    },
    {
      "cell_type": "code",
      "source": [
        "print(\"The CV оценка составляет %.5f\" % np.mean(CV_score_array,axis=0) )       "
      ],
      "metadata": {
        "colab": {
          "base_uri": "https://localhost:8080/"
        },
        "id": "8csTMQJJKPfs",
        "outputId": "28a4d932-6cf7-40df-efb4-4ae6d6f87522"
      },
      "execution_count": null,
      "outputs": [
        {
          "output_type": "stream",
          "name": "stdout",
          "text": [
            "The CV оценка составляет 0.03662\n"
          ]
        }
      ]
    },
    {
      "cell_type": "markdown",
      "source": [
        "В контексте Kaggle LB score означает LeaderBoard (выделено мной)"
      ],
      "metadata": {
        "id": "CfPVQytscVvX"
      }
    },
    {
      "cell_type": "code",
      "source": [
        "from sklearn.metrics import mean_squared_log_error \n",
        "RMSLE = np.sqrt( mean_squared_log_error(y_true, predictions)) \n",
        "print(\"The LB score is %.5f\" % RMSLE ) "
      ],
      "metadata": {
        "id": "2YHzfsWOKWIL",
        "colab": {
          "base_uri": "https://localhost:8080/"
        },
        "outputId": "01a46e91-04a6-495a-bd6f-e79c48760b8c"
      },
      "execution_count": null,
      "outputs": [
        {
          "output_type": "stream",
          "name": "stdout",
          "text": [
            "The LB score is 0.02979\n"
          ]
        }
      ]
    },
    {
      "cell_type": "code",
      "source": [
        "predictions = open('file.csv')\n",
        "predictions = predictions.read()\n",
        "\n",
        "predictions = predictions.replace(\"[\",\"\")\n",
        "predictions = predictions.split(\"]\")\n",
        "predictions.pop(len(predictions)-1)\n",
        "for i in range(len(predictions)):\n",
        "    predictions[i] = float(predictions[i])\n",
        "    predictions[i] = np.asarray(predictions[i])\n",
        "# df_new = predictions[np.isfinite(predictions).all(1)]"
      ],
      "metadata": {
        "id": "ZSnjvqmSKUnC"
      },
      "execution_count": null,
      "outputs": []
    },
    {
      "cell_type": "code",
      "source": [
        "# sample.iloc[:,1:] = predictions\n",
        "# sample.to_csv('kzcopy2.csv',index=False) \n",
        "output = pd.DataFrame(predictions)\n",
        "output.to_csv('kzcopy2.csv', index=False)"
      ],
      "metadata": {
        "id": "IMbGBLu-KXfa"
      },
      "execution_count": null,
      "outputs": []
    }
  ]
}