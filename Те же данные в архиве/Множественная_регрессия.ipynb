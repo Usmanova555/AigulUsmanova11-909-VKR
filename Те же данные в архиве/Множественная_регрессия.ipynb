{
  "nbformat": 4,
  "nbformat_minor": 0,
  "metadata": {
    "colab": {
      "provenance": []
    },
    "kernelspec": {
      "name": "python3",
      "display_name": "Python 3"
    },
    "language_info": {
      "name": "python"
    }
  },
  "cells": [
    {
      "cell_type": "code",
      "execution_count": null,
      "metadata": {
        "colab": {
          "base_uri": "https://localhost:8080/"
        },
        "id": "67cRKMrNhDdd",
        "outputId": "e9ed0cae-0616-4297-d04c-7f3ba9c6942e"
      },
      "outputs": [
        {
          "output_type": "stream",
          "name": "stdout",
          "text": [
            "Looking in indexes: https://pypi.org/simple, https://us-python.pkg.dev/colab-wheels/public/simple/\n",
            "Collecting pytorch-tabnet\n",
            "  Downloading pytorch_tabnet-4.0-py3-none-any.whl (41 kB)\n",
            "\u001b[2K     \u001b[90m━━━━━━━━━━━━━━━━━━━━━━━━━━━━━━━━━━━━━━━━\u001b[0m \u001b[32m41.8/41.8 kB\u001b[0m \u001b[31m3.0 MB/s\u001b[0m eta \u001b[36m0:00:00\u001b[0m\n",
            "\u001b[?25hRequirement already satisfied: scikit_learn>0.21 in /usr/local/lib/python3.9/dist-packages (from pytorch-tabnet) (1.2.2)\n",
            "Collecting torch<2.0,>=1.2\n",
            "  Downloading torch-1.13.1-cp39-cp39-manylinux1_x86_64.whl (887.4 MB)\n",
            "\u001b[2K     \u001b[90m━━━━━━━━━━━━━━━━━━━━━━━━━━━━━━━━━━━━━━━\u001b[0m \u001b[32m887.4/887.4 MB\u001b[0m \u001b[31m1.7 MB/s\u001b[0m eta \u001b[36m0:00:00\u001b[0m\n",
            "\u001b[?25hRequirement already satisfied: numpy<2.0,>=1.17 in /usr/local/lib/python3.9/dist-packages (from pytorch-tabnet) (1.22.4)\n",
            "Requirement already satisfied: scipy>1.4 in /usr/local/lib/python3.9/dist-packages (from pytorch-tabnet) (1.10.1)\n",
            "Requirement already satisfied: tqdm<5.0,>=4.36 in /usr/local/lib/python3.9/dist-packages (from pytorch-tabnet) (4.65.0)\n",
            "Requirement already satisfied: threadpoolctl>=2.0.0 in /usr/local/lib/python3.9/dist-packages (from scikit_learn>0.21->pytorch-tabnet) (3.1.0)\n",
            "Requirement already satisfied: joblib>=1.1.1 in /usr/local/lib/python3.9/dist-packages (from scikit_learn>0.21->pytorch-tabnet) (1.2.0)\n",
            "Collecting nvidia-cublas-cu11==11.10.3.66\n",
            "  Downloading nvidia_cublas_cu11-11.10.3.66-py3-none-manylinux1_x86_64.whl (317.1 MB)\n",
            "\u001b[2K     \u001b[90m━━━━━━━━━━━━━━━━━━━━━━━━━━━━━━━━━━━━━━━\u001b[0m \u001b[32m317.1/317.1 MB\u001b[0m \u001b[31m4.1 MB/s\u001b[0m eta \u001b[36m0:00:00\u001b[0m\n",
            "\u001b[?25hCollecting nvidia-cuda-nvrtc-cu11==11.7.99\n",
            "  Downloading nvidia_cuda_nvrtc_cu11-11.7.99-2-py3-none-manylinux1_x86_64.whl (21.0 MB)\n",
            "\u001b[2K     \u001b[90m━━━━━━━━━━━━━━━━━━━━━━━━━━━━━━━━━━━━━━━━\u001b[0m \u001b[32m21.0/21.0 MB\u001b[0m \u001b[31m58.6 MB/s\u001b[0m eta \u001b[36m0:00:00\u001b[0m\n",
            "\u001b[?25hCollecting nvidia-cuda-runtime-cu11==11.7.99\n",
            "  Downloading nvidia_cuda_runtime_cu11-11.7.99-py3-none-manylinux1_x86_64.whl (849 kB)\n",
            "\u001b[2K     \u001b[90m━━━━━━━━━━━━━━━━━━━━━━━━━━━━━━━━━━━━━━\u001b[0m \u001b[32m849.3/849.3 kB\u001b[0m \u001b[31m55.4 MB/s\u001b[0m eta \u001b[36m0:00:00\u001b[0m\n",
            "\u001b[?25hCollecting nvidia-cudnn-cu11==8.5.0.96\n",
            "  Downloading nvidia_cudnn_cu11-8.5.0.96-2-py3-none-manylinux1_x86_64.whl (557.1 MB)\n",
            "\u001b[2K     \u001b[90m━━━━━━━━━━━━━━━━━━━━━━━━━━━━━━━━━━━━━━━\u001b[0m \u001b[32m557.1/557.1 MB\u001b[0m \u001b[31m2.5 MB/s\u001b[0m eta \u001b[36m0:00:00\u001b[0m\n",
            "\u001b[?25hRequirement already satisfied: typing-extensions in /usr/local/lib/python3.9/dist-packages (from torch<2.0,>=1.2->pytorch-tabnet) (4.5.0)\n",
            "Requirement already satisfied: setuptools in /usr/local/lib/python3.9/dist-packages (from nvidia-cublas-cu11==11.10.3.66->torch<2.0,>=1.2->pytorch-tabnet) (67.7.2)\n",
            "Requirement already satisfied: wheel in /usr/local/lib/python3.9/dist-packages (from nvidia-cublas-cu11==11.10.3.66->torch<2.0,>=1.2->pytorch-tabnet) (0.40.0)\n",
            "Installing collected packages: nvidia-cuda-runtime-cu11, nvidia-cuda-nvrtc-cu11, nvidia-cublas-cu11, nvidia-cudnn-cu11, torch, pytorch-tabnet\n",
            "  Attempting uninstall: torch\n",
            "    Found existing installation: torch 2.0.0+cu118\n",
            "    Uninstalling torch-2.0.0+cu118:\n",
            "      Successfully uninstalled torch-2.0.0+cu118\n",
            "\u001b[31mERROR: pip's dependency resolver does not currently take into account all the packages that are installed. This behaviour is the source of the following dependency conflicts.\n",
            "torchvision 0.15.1+cu118 requires torch==2.0.0, but you have torch 1.13.1 which is incompatible.\n",
            "torchtext 0.15.1 requires torch==2.0.0, but you have torch 1.13.1 which is incompatible.\n",
            "torchdata 0.6.0 requires torch==2.0.0, but you have torch 1.13.1 which is incompatible.\n",
            "torchaudio 2.0.1+cu118 requires torch==2.0.0, but you have torch 1.13.1 which is incompatible.\u001b[0m\u001b[31m\n",
            "\u001b[0mSuccessfully installed nvidia-cublas-cu11-11.10.3.66 nvidia-cuda-nvrtc-cu11-11.7.99 nvidia-cuda-runtime-cu11-11.7.99 nvidia-cudnn-cu11-8.5.0.96 pytorch-tabnet-4.0 torch-1.13.1\n",
            "Looking in indexes: https://pypi.org/simple, https://us-python.pkg.dev/colab-wheels/public/simple/\n",
            "Collecting wget\n",
            "  Downloading wget-3.2.zip (10 kB)\n",
            "  Preparing metadata (setup.py) ... \u001b[?25l\u001b[?25hdone\n",
            "Building wheels for collected packages: wget\n",
            "  Building wheel for wget (setup.py) ... \u001b[?25l\u001b[?25hdone\n",
            "  Created wheel for wget: filename=wget-3.2-py3-none-any.whl size=9676 sha256=c64c3a60bc7506c73c8c3b79888df90cdf0426e478e6ff4dcca01e84bbbe744f\n",
            "  Stored in directory: /root/.cache/pip/wheels/04/5f/3e/46cc37c5d698415694d83f607f833f83f0149e49b3af9d0f38\n",
            "Successfully built wget\n",
            "Installing collected packages: wget\n",
            "Successfully installed wget-3.2\n"
          ]
        }
      ],
      "source": [
        "!pip install pytorch-tabnet\n",
        "!pip install wget\n",
        "from pytorch_tabnet.tab_model import TabNetRegressor\n",
        "\n",
        "import torch\n",
        "from sklearn.preprocessing import LabelEncoder\n",
        "from sklearn.metrics import mean_squared_error\n",
        "\n",
        "import pandas as pd\n",
        "import numpy as np\n",
        "np.random.seed(0)\n",
        "\n",
        "\n",
        "import os\n",
        "import wget\n",
        "from pathlib import Path\n",
        "\n",
        "\n",
        "%load_ext autoreload\n",
        "\n",
        "%autoreload 2"
      ]
    },
    {
      "cell_type": "markdown",
      "source": [
        "Скачивание набора данных об истории покупок электронной коммерции в магазине электроники"
      ],
      "metadata": {
        "id": "5_Yuf40iQWwt"
      }
    },
    {
      "cell_type": "code",
      "source": [
        "train = pd.read_csv('Table 1.csv')"
      ],
      "metadata": {
        "id": "mn9beClLhTbe"
      },
      "execution_count": null,
      "outputs": []
    },
    {
      "cell_type": "markdown",
      "source": [
        "Загрузка данных и разделение на 3 выборки для дальнейшей работы"
      ],
      "metadata": {
        "id": "McUeZlfhQfzl"
      }
    },
    {
      "cell_type": "code",
      "source": [
        "target = 'order_id'\n",
        "if \"Set\" not in train.columns:\n",
        "    train[\"Set\"] = np.random.choice([\"train\", \"valid\", \"test\"], p =[.8, .1, .1], size=(train.shape[0],))\n",
        "\n",
        "train_indices = train[train.Set==\"train\"].index\n",
        "valid_indices = train[train.Set==\"valid\"].index\n",
        "test_indices = train[train.Set==\"test\"].index\n",
        "dataset_name = 'electronics-store'"
      ],
      "metadata": {
        "id": "aE6fw0eXhOh8"
      },
      "execution_count": null,
      "outputs": []
    },
    {
      "cell_type": "markdown",
      "source": [
        "Простая предварительная обработка"
      ],
      "metadata": {
        "id": "OCw8szopQiWr"
      }
    },
    {
      "cell_type": "markdown",
      "source": [
        "Метки кодируют категориальные функции и заполняют пустые ячейки"
      ],
      "metadata": {
        "id": "XcvIu4MZQjPH"
      }
    },
    {
      "cell_type": "code",
      "source": [
        "categorical_columns = []\n",
        "categorical_dims =  {}\n",
        "for col in train.columns[train.dtypes == object]:\n",
        "    print(col, train[col].nunique())\n",
        "    l_enc = LabelEncoder()\n",
        "    train[col] = train[col].fillna(\"VV_likely\")\n",
        "    train[col] = l_enc.fit_transform(train[col].values)\n",
        "    categorical_columns.append(col)\n",
        "    categorical_dims[col] = len(l_enc.classes_)\n",
        "\n",
        "for col in train.columns[train.dtypes == 'float64']:\n",
        "    train.fillna(train.loc[train_indices, col].mean(), inplace=True)"
      ],
      "metadata": {
        "colab": {
          "base_uri": "https://localhost:8080/"
        },
        "id": "i6MOUKArhUCA",
        "outputId": "20d0bc59-d77c-4a2e-f094-06d5ef8ee266"
      },
      "execution_count": null,
      "outputs": [
        {
          "output_type": "stream",
          "name": "stdout",
          "text": [
            "Set 3\n"
          ]
        }
      ]
    },
    {
      "cell_type": "markdown",
      "source": [
        "Определение категориальных признаков"
      ],
      "metadata": {
        "id": "RldpaihYRcnY"
      }
    },
    {
      "cell_type": "code",
      "source": [
        "unused_feat = ['Set']\n",
        "\n",
        "features = [ col for col in train.columns if col not in unused_feat+[target]] \n",
        "\n",
        "cat_idxs = [ i for i, f in enumerate(features) if f in categorical_columns]\n",
        "\n",
        "cat_dims = [ categorical_dims[f] for i, f in enumerate(features) if f in categorical_columns]\n",
        "\n",
        "# define your embedding sizes : here just a random choice\n",
        "cat_emb_dim = [5, 4, 3, 6, 2, 2, 1, 10]"
      ],
      "metadata": {
        "id": "iWrqZF0lhWD8"
      },
      "execution_count": null,
      "outputs": []
    },
    {
      "cell_type": "markdown",
      "source": [
        "Параметры нейронной сети"
      ],
      "metadata": {
        "id": "uZbmwqCNRbRS"
      }
    },
    {
      "cell_type": "code",
      "source": [
        "clf = TabNetRegressor(cat_dims=cat_dims, cat_emb_dim=cat_emb_dim, cat_idxs=cat_idxs)"
      ],
      "metadata": {
        "colab": {
          "base_uri": "https://localhost:8080/"
        },
        "id": "oN8_PAYRhXxV",
        "outputId": "466a8c32-b4c9-4873-990f-2d6cf27bafc1"
      },
      "execution_count": null,
      "outputs": [
        {
          "output_type": "stream",
          "name": "stderr",
          "text": [
            "/usr/local/lib/python3.9/dist-packages/pytorch_tabnet/abstract_model.py:75: UserWarning: Device used : cpu\n",
            "  warnings.warn(f\"Device used : {self.device}\")\n"
          ]
        }
      ]
    },
    {
      "cell_type": "markdown",
      "source": [
        "###Обучение"
      ],
      "metadata": {
        "id": "t-HcK2m_Rheg"
      }
    },
    {
      "cell_type": "code",
      "source": [
        "n_targets = 8\n",
        "\n",
        "X_train = train[features].values[train_indices]\n",
        "y_train = train[target].values[train_indices]\n",
        "y_train = np.transpose(np.tile(y_train, (n_targets,1)))\n",
        "\n",
        "X_valid = train[features].values[valid_indices]\n",
        "y_valid = train[target].values[valid_indices]\n",
        "y_valid = np.transpose(np.tile(y_valid, (n_targets,1)))\n",
        "\n",
        "X_test = train[features].values[test_indices]\n",
        "y_test = train[target].values[test_indices]\n",
        "y_test = np.transpose(np.tile(y_test, (n_targets,1)))"
      ],
      "metadata": {
        "id": "EzgWVhgMhZlN"
      },
      "execution_count": null,
      "outputs": []
    },
    {
      "cell_type": "code",
      "source": [
        "max_epochs = 1000 if not os.getenv(\"CI\", False) else 2"
      ],
      "metadata": {
        "id": "pHLDDDjKhbJt"
      },
      "execution_count": null,
      "outputs": []
    },
    {
      "cell_type": "code",
      "source": [
        "clf.fit(\n",
        "    X_train=X_train, y_train=y_train,\n",
        "    eval_set=[(X_train, y_train), (X_valid, y_valid)],\n",
        "    eval_name=['train', 'valid'],\n",
        "    eval_metric=['rmsle', 'mae', 'rmse', 'mse'],\n",
        "    max_epochs=max_epochs,\n",
        "    patience=50,\n",
        "    batch_size=1024, virtual_batch_size=128,\n",
        "    num_workers=0,\n",
        "    drop_last=False\n",
        ") "
      ],
      "metadata": {
        "colab": {
          "base_uri": "https://localhost:8080/"
        },
        "id": "P3762HFKhcp2",
        "outputId": "4313de95-44f5-4a75-83b2-6d3b662d078c"
      },
      "execution_count": null,
      "outputs": [
        {
          "output_type": "stream",
          "name": "stdout",
          "text": [
            "epoch 0  | loss: inf     | train_rmsle: 1413.2974| train_mae: 2.33883832167979e+18| train_rmse: 2.338889178577939e+18| train_mse: 5.470402589668987e+36| valid_rmsle: 1413.29337| valid_mae: 2.3390061892608896e+18| valid_rmse: 2.3390561749561165e+18| valid_mse: 5.471183789600339e+36|  0:00:09s\n",
            "epoch 1  | loss: nan     | train_rmsle: 1470.81752| train_mae: 2.33883832167979e+18| train_rmse: 2.338889178577939e+18| train_mse: 5.470402589668987e+36| valid_rmsle: 1470.80575| valid_mae: 2.3390061892608896e+18| valid_rmse: 2.3390561749561165e+18| valid_mse: 5.471183789600339e+36|  0:00:22s\n",
            "epoch 2  | loss: nan     | train_rmsle: 1496.21463| train_mae: 2.33883832167979e+18| train_rmse: 2.338889178577939e+18| train_mse: 5.470402589668987e+36| valid_rmsle: 1496.05425| valid_mae: 2.3390061892608896e+18| valid_rmse: 2.3390561749561165e+18| valid_mse: 5.471183789600339e+36|  0:00:28s\n",
            "epoch 3  | loss: nan     | train_rmsle: 1513.77942| train_mae: 2.33883832167979e+18| train_rmse: 2.338889178577939e+18| train_mse: 5.470402589668987e+36| valid_rmsle: 1513.71022| valid_mae: 2.3390061892608896e+18| valid_rmse: 2.3390561749561165e+18| valid_mse: 5.471183789600339e+36|  0:00:35s\n",
            "epoch 4  | loss: nan     | train_rmsle: 1508.94517| train_mae: 2.33883832167979e+18| train_rmse: 2.338889178577939e+18| train_mse: 5.470402589668987e+36| valid_rmsle: 1509.31433| valid_mae: 2.3390061892608896e+18| valid_rmse: 2.3390561749561165e+18| valid_mse: 5.471183789600339e+36|  0:00:40s\n",
            "epoch 5  | loss: nan     | train_rmsle: 1511.26593| train_mae: 2.33883832167979e+18| train_rmse: 2.338889178577939e+18| train_mse: 5.470402589668987e+36| valid_rmsle: 1511.6085| valid_mae: 2.3390061892608896e+18| valid_rmse: 2.3390561749561165e+18| valid_mse: 5.471183789600339e+36|  0:00:47s\n",
            "epoch 6  | loss: nan     | train_rmsle: 1515.97056| train_mae: 2.33883832167979e+18| train_rmse: 2.338889178577939e+18| train_mse: 5.470402589668987e+36| valid_rmsle: 1516.31431| valid_mae: 2.3390061892608896e+18| valid_rmse: 2.3390561749561165e+18| valid_mse: 5.471183789600339e+36|  0:00:52s\n",
            "epoch 7  | loss: nan     | train_rmsle: 1512.31109| train_mae: 2.33883832167979e+18| train_rmse: 2.338889178577939e+18| train_mse: 5.470402589668987e+36| valid_rmsle: 1512.39025| valid_mae: 2.3390061892608896e+18| valid_rmse: 2.3390561749561165e+18| valid_mse: 5.471183789600339e+36|  0:00:58s\n",
            "epoch 8  | loss: nan     | train_rmsle: 1518.55337| train_mae: 2.33883832167979e+18| train_rmse: 2.338889178577939e+18| train_mse: 5.470402589668987e+36| valid_rmsle: 1518.76314| valid_mae: 2.3390061892608896e+18| valid_rmse: 2.3390561749561165e+18| valid_mse: 5.471183789600339e+36|  0:01:04s\n",
            "epoch 9  | loss: nan     | train_rmsle: 1517.76101| train_mae: 2.33883832167979e+18| train_rmse: 2.338889178577939e+18| train_mse: 5.470402589668987e+36| valid_rmsle: 1517.96013| valid_mae: 2.3390061892608896e+18| valid_rmse: 2.3390561749561165e+18| valid_mse: 5.471183789600339e+36|  0:01:09s\n",
            "epoch 10 | loss: nan     | train_rmsle: 1516.64527| train_mae: 2.33883832167979e+18| train_rmse: 2.338889178577939e+18| train_mse: 5.470402589668987e+36| valid_rmsle: 1516.83164| valid_mae: 2.3390061892608896e+18| valid_rmse: 2.3390561749561165e+18| valid_mse: 5.471183789600339e+36|  0:01:17s\n",
            "epoch 11 | loss: nan     | train_rmsle: 1512.50289| train_mae: 2.33883832167979e+18| train_rmse: 2.338889178577939e+18| train_mse: 5.470402589668987e+36| valid_rmsle: 1512.57066| valid_mae: 2.3390061892608896e+18| valid_rmse: 2.3390561749561165e+18| valid_mse: 5.471183789600339e+36|  0:01:23s\n",
            "epoch 12 | loss: nan     | train_rmsle: 1517.32437| train_mae: 2.33883832167979e+18| train_rmse: 2.338889178577939e+18| train_mse: 5.470402589668987e+36| valid_rmsle: 1517.52308| valid_mae: 2.3390061892608896e+18| valid_rmse: 2.3390561749561165e+18| valid_mse: 5.471183789600339e+36|  0:01:29s\n",
            "epoch 13 | loss: nan     | train_rmsle: 1516.93005| train_mae: 2.33883832167979e+18| train_rmse: 2.338889178577939e+18| train_mse: 5.470402589668987e+36| valid_rmsle: 1517.10591| valid_mae: 2.3390061892608896e+18| valid_rmse: 2.3390561749561165e+18| valid_mse: 5.471183789600339e+36|  0:01:35s\n",
            "epoch 14 | loss: nan     | train_rmsle: 1513.49995| train_mae: 2.33883832167979e+18| train_rmse: 2.338889178577939e+18| train_mse: 5.470402589668987e+36| valid_rmsle: 1513.58513| valid_mae: 2.3390061892608896e+18| valid_rmse: 2.3390561749561165e+18| valid_mse: 5.471183789600339e+36|  0:01:43s\n",
            "epoch 15 | loss: nan     | train_rmsle: 1516.86317| train_mae: 2.33883832167979e+18| train_rmse: 2.338889178577939e+18| train_mse: 5.470402589668987e+36| valid_rmsle: 1517.08831| valid_mae: 2.3390061892608896e+18| valid_rmse: 2.3390561749561165e+18| valid_mse: 5.471183789600339e+36|  0:01:48s\n",
            "epoch 16 | loss: nan     | train_rmsle: 1518.16934| train_mae: 2.33883832167979e+18| train_rmse: 2.338889178577939e+18| train_mse: 5.470402589668987e+36| valid_rmsle: 1518.3738| valid_mae: 2.3390061892608896e+18| valid_rmse: 2.3390561749561165e+18| valid_mse: 5.471183789600339e+36|  0:01:54s\n",
            "epoch 17 | loss: nan     | train_rmsle: 1514.32261| train_mae: 2.33883832167979e+18| train_rmse: 2.338889178577939e+18| train_mse: 5.470402589668987e+36| valid_rmsle: 1514.44864| valid_mae: 2.3390061892608896e+18| valid_rmse: 2.3390561749561165e+18| valid_mse: 5.471183789600339e+36|  0:02:00s\n",
            "epoch 18 | loss: nan     | train_rmsle: 1516.96641| train_mae: 2.33883832167979e+18| train_rmse: 2.338889178577939e+18| train_mse: 5.470402589668987e+36| valid_rmsle: 1517.17661| valid_mae: 2.3390061892608896e+18| valid_rmse: 2.3390561749561165e+18| valid_mse: 5.471183789600339e+36|  0:02:09s\n",
            "epoch 19 | loss: nan     | train_rmsle: 1516.89384| train_mae: 2.33883832167979e+18| train_rmse: 2.338889178577939e+18| train_mse: 5.470402589668987e+36| valid_rmsle: 1517.10187| valid_mae: 2.3390061892608896e+18| valid_rmse: 2.3390561749561165e+18| valid_mse: 5.471183789600339e+36|  0:02:16s\n",
            "epoch 20 | loss: nan     | train_rmsle: 1517.58015| train_mae: 2.33883832167979e+18| train_rmse: 2.338889178577939e+18| train_mse: 5.470402589668987e+36| valid_rmsle: 1517.78311| valid_mae: 2.3390061892608896e+18| valid_rmse: 2.3390561749561165e+18| valid_mse: 5.471183789600339e+36|  0:02:23s\n",
            "epoch 21 | loss: nan     | train_rmsle: 1508.94659| train_mae: 2.33883832167979e+18| train_rmse: 2.338889178577939e+18| train_mse: 5.470402589668987e+36| valid_rmsle: 1508.9325| valid_mae: 2.3390061892608896e+18| valid_rmse: 2.3390561749561165e+18| valid_mse: 5.471183789600339e+36|  0:02:28s\n",
            "epoch 22 | loss: nan     | train_rmsle: 1508.45729| train_mae: 2.33883832167979e+18| train_rmse: 2.338889178577939e+18| train_mse: 5.470402589668987e+36| valid_rmsle: 1508.43068| valid_mae: 2.3390061892608896e+18| valid_rmse: 2.3390561749561165e+18| valid_mse: 5.471183789600339e+36|  0:02:34s\n",
            "epoch 23 | loss: nan     | train_rmsle: 1516.91263| train_mae: 2.33883832167979e+18| train_rmse: 2.338889178577939e+18| train_mse: 5.470402589668987e+36| valid_rmsle: 1517.09761| valid_mae: 2.3390061892608896e+18| valid_rmse: 2.3390561749561165e+18| valid_mse: 5.471183789600339e+36|  0:02:41s\n",
            "epoch 24 | loss: nan     | train_rmsle: 1516.81508| train_mae: 2.33883832167979e+18| train_rmse: 2.338889178577939e+18| train_mse: 5.470402589668987e+36| valid_rmsle: 1517.0368| valid_mae: 2.3390061892608896e+18| valid_rmse: 2.3390561749561165e+18| valid_mse: 5.471183789600339e+36|  0:02:46s\n",
            "epoch 25 | loss: nan     | train_rmsle: 1517.08241| train_mae: 2.33883832167979e+18| train_rmse: 2.338889178577939e+18| train_mse: 5.470402589668987e+36| valid_rmsle: 1517.31087| valid_mae: 2.3390061892608896e+18| valid_rmse: 2.3390561749561165e+18| valid_mse: 5.471183789600339e+36|  0:02:53s\n",
            "epoch 26 | loss: nan     | train_rmsle: 1517.4713| train_mae: 2.33883832167979e+18| train_rmse: 2.338889178577939e+18| train_mse: 5.470402589668987e+36| valid_rmsle: 1517.65644| valid_mae: 2.3390061892608896e+18| valid_rmse: 2.3390561749561165e+18| valid_mse: 5.471183789600339e+36|  0:02:58s\n",
            "epoch 27 | loss: nan     | train_rmsle: 1512.65743| train_mae: 2.33883832167979e+18| train_rmse: 2.338889178577939e+18| train_mse: 5.470402589668987e+36| valid_rmsle: 1512.73546| valid_mae: 2.3390061892608896e+18| valid_rmse: 2.3390561749561165e+18| valid_mse: 5.471183789600339e+36|  0:03:04s\n",
            "epoch 28 | loss: nan     | train_rmsle: 1515.39027| train_mae: 2.33883832167979e+18| train_rmse: 2.338889178577939e+18| train_mse: 5.470402589668987e+36| valid_rmsle: 1515.5471| valid_mae: 2.3390061892608896e+18| valid_rmse: 2.3390561749561165e+18| valid_mse: 5.471183789600339e+36|  0:03:10s\n",
            "epoch 29 | loss: nan     | train_rmsle: 1516.29408| train_mae: 2.33883832167979e+18| train_rmse: 2.338889178577939e+18| train_mse: 5.470402589668987e+36| valid_rmsle: 1516.51909| valid_mae: 2.3390061892608896e+18| valid_rmse: 2.3390561749561165e+18| valid_mse: 5.471183789600339e+36|  0:03:15s\n",
            "epoch 30 | loss: nan     | train_rmsle: 1517.63741| train_mae: 2.33883832167979e+18| train_rmse: 2.338889178577939e+18| train_mse: 5.470402589668987e+36| valid_rmsle: 1517.8325| valid_mae: 2.3390061892608896e+18| valid_rmse: 2.3390561749561165e+18| valid_mse: 5.471183789600339e+36|  0:03:22s\n",
            "epoch 31 | loss: nan     | train_rmsle: 1516.91127| train_mae: 2.33883832167979e+18| train_rmse: 2.338889178577939e+18| train_mse: 5.470402589668987e+36| valid_rmsle: 1517.11946| valid_mae: 2.3390061892608896e+18| valid_rmse: 2.3390561749561165e+18| valid_mse: 5.471183789600339e+36|  0:03:28s\n",
            "epoch 32 | loss: nan     | train_rmsle: 1516.85176| train_mae: 2.33883832167979e+18| train_rmse: 2.338889178577939e+18| train_mse: 5.470402589668987e+36| valid_rmsle: 1517.03734| valid_mae: 2.3390061892608896e+18| valid_rmse: 2.3390561749561165e+18| valid_mse: 5.471183789600339e+36|  0:03:35s\n",
            "epoch 33 | loss: nan     | train_rmsle: 1516.92082| train_mae: 2.33883832167979e+18| train_rmse: 2.338889178577939e+18| train_mse: 5.470402589668987e+36| valid_rmsle: 1517.14705| valid_mae: 2.3390061892608896e+18| valid_rmse: 2.3390561749561165e+18| valid_mse: 5.471183789600339e+36|  0:03:40s\n",
            "epoch 34 | loss: nan     | train_rmsle: 1517.68563| train_mae: 2.33883832167979e+18| train_rmse: 2.338889178577939e+18| train_mse: 5.470402589668987e+36| valid_rmsle: 1517.8804| valid_mae: 2.3390061892608896e+18| valid_rmse: 2.3390561749561165e+18| valid_mse: 5.471183789600339e+36|  0:03:46s\n",
            "epoch 35 | loss: nan     | train_rmsle: 1517.41302| train_mae: 2.33883832167979e+18| train_rmse: 2.338889178577939e+18| train_mse: 5.470402589668987e+36| valid_rmsle: 1517.61457| valid_mae: 2.3390061892608896e+18| valid_rmse: 2.3390561749561165e+18| valid_mse: 5.471183789600339e+36|  0:03:53s\n",
            "epoch 36 | loss: nan     | train_rmsle: 1517.03261| train_mae: 2.33883832167979e+18| train_rmse: 2.338889178577939e+18| train_mse: 5.470402589668987e+36| valid_rmsle: 1517.23715| valid_mae: 2.3390061892608896e+18| valid_rmse: 2.3390561749561165e+18| valid_mse: 5.471183789600339e+36|  0:03:58s\n",
            "epoch 37 | loss: nan     | train_rmsle: 1508.3951| train_mae: 2.33883832167979e+18| train_rmse: 2.338889178577939e+18| train_mse: 5.470402589668987e+36| valid_rmsle: 1508.36185| valid_mae: 2.3390061892608896e+18| valid_rmse: 2.3390561749561165e+18| valid_mse: 5.471183789600339e+36|  0:04:05s\n",
            "epoch 38 | loss: nan     | train_rmsle: 1517.04345| train_mae: 2.33883832167979e+18| train_rmse: 2.338889178577939e+18| train_mse: 5.470402589668987e+36| valid_rmsle: 1517.2524| valid_mae: 2.3390061892608896e+18| valid_rmse: 2.3390561749561165e+18| valid_mse: 5.471183789600339e+36|  0:04:10s\n",
            "epoch 39 | loss: nan     | train_rmsle: 1512.90503| train_mae: 2.33883832167979e+18| train_rmse: 2.338889178577939e+18| train_mse: 5.470402589668987e+36| valid_rmsle: 1512.98052| valid_mae: 2.3390061892608896e+18| valid_rmse: 2.3390561749561165e+18| valid_mse: 5.471183789600339e+36|  0:04:16s\n",
            "epoch 40 | loss: nan     | train_rmsle: 1517.52124| train_mae: 2.33883832167979e+18| train_rmse: 2.338889178577939e+18| train_mse: 5.470402589668987e+36| valid_rmsle: 1517.72167| valid_mae: 2.3390061892608896e+18| valid_rmse: 2.3390561749561165e+18| valid_mse: 5.471183789600339e+36|  0:04:22s\n",
            "epoch 41 | loss: nan     | train_rmsle: 1510.31568| train_mae: 2.33883832167979e+18| train_rmse: 2.338889178577939e+18| train_mse: 5.470402589668987e+36| valid_rmsle: 1510.36094| valid_mae: 2.3390061892608896e+18| valid_rmse: 2.3390561749561165e+18| valid_mse: 5.471183789600339e+36|  0:04:27s\n",
            "epoch 42 | loss: nan     | train_rmsle: 1516.13142| train_mae: 2.33883832167979e+18| train_rmse: 2.338889178577939e+18| train_mse: 5.470402589668987e+36| valid_rmsle: 1516.30425| valid_mae: 2.3390061892608896e+18| valid_rmse: 2.3390561749561165e+18| valid_mse: 5.471183789600339e+36|  0:04:34s\n",
            "epoch 43 | loss: nan     | train_rmsle: 1517.79799| train_mae: 2.33883832167979e+18| train_rmse: 2.338889178577939e+18| train_mse: 5.470402589668987e+36| valid_rmsle: 1518.01876| valid_mae: 2.3390061892608896e+18| valid_rmse: 2.3390561749561165e+18| valid_mse: 5.471183789600339e+36|  0:04:39s\n",
            "epoch 44 | loss: nan     | train_rmsle: 1517.57159| train_mae: 2.33883832167979e+18| train_rmse: 2.338889178577939e+18| train_mse: 5.470402589668987e+36| valid_rmsle: 1517.77875| valid_mae: 2.3390061892608896e+18| valid_rmse: 2.3390561749561165e+18| valid_mse: 5.471183789600339e+36|  0:04:46s\n",
            "epoch 45 | loss: nan     | train_rmsle: 1510.64474| train_mae: 2.33883832167979e+18| train_rmse: 2.338889178577939e+18| train_mse: 5.470402589668987e+36| valid_rmsle: 1510.66602| valid_mae: 2.3390061892608896e+18| valid_rmse: 2.3390561749561165e+18| valid_mse: 5.471183789600339e+36|  0:04:51s\n",
            "epoch 46 | loss: nan     | train_rmsle: 1517.19767| train_mae: 2.33883832167979e+18| train_rmse: 2.338889178577939e+18| train_mse: 5.470402589668987e+36| valid_rmsle: 1517.41019| valid_mae: 2.3390061892608896e+18| valid_rmse: 2.3390561749561165e+18| valid_mse: 5.471183789600339e+36|  0:04:57s\n",
            "epoch 47 | loss: nan     | train_rmsle: 1517.80126| train_mae: 2.33883832167979e+18| train_rmse: 2.338889178577939e+18| train_mse: 5.470402589668987e+36| valid_rmsle: 1518.00602| valid_mae: 2.3390061892608896e+18| valid_rmse: 2.3390561749561165e+18| valid_mse: 5.471183789600339e+36|  0:05:04s\n",
            "epoch 48 | loss: nan     | train_rmsle: 1517.41984| train_mae: 2.33883832167979e+18| train_rmse: 2.338889178577939e+18| train_mse: 5.470402589668987e+36| valid_rmsle: 1517.65183| valid_mae: 2.3390061892608896e+18| valid_rmse: 2.3390561749561165e+18| valid_mse: 5.471183789600339e+36|  0:05:10s\n",
            "epoch 49 | loss: nan     | train_rmsle: 1517.2506| train_mae: 2.33883832167979e+18| train_rmse: 2.338889178577939e+18| train_mse: 5.470402589668987e+36| valid_rmsle: 1517.4882| valid_mae: 2.3390061892608896e+18| valid_rmse: 2.3390561749561165e+18| valid_mse: 5.471183789600339e+36|  0:05:16s\n",
            "epoch 50 | loss: nan     | train_rmsle: 1517.6174| train_mae: 2.33883832167979e+18| train_rmse: 2.338889178577939e+18| train_mse: 5.470402589668987e+36| valid_rmsle: 1517.84632| valid_mae: 2.3390061892608896e+18| valid_rmse: 2.3390561749561165e+18| valid_mse: 5.471183789600339e+36|  0:05:21s\n",
            "\n",
            "Early stopping occurred at epoch 50 with best_epoch = 0 and best_valid_mse = 5.471183789600339e+36\n"
          ]
        },
        {
          "output_type": "stream",
          "name": "stderr",
          "text": [
            "/usr/local/lib/python3.9/dist-packages/pytorch_tabnet/callbacks.py:172: UserWarning: Best weights from best epoch are automatically used!\n",
            "  warnings.warn(wrn_msg)\n"
          ]
        }
      ]
    },
    {
      "cell_type": "code",
      "source": [
        "preds = clf.predict(X_test)\n",
        "\n",
        "test_mse = mean_squared_error(y_pred=preds, y_true=y_test)\n",
        "\n",
        "print(f\"ЛУЧШАЯ ПРАВИЛЬНАЯ ОЦЕНКА ДЛЯ {dataset_name} : {clf.best_cost}\")\n",
        "print(f\"ФИНАЛЬНАЯ ТЕСТОВАЯ ОЦЕНКА ДЛЯ {dataset_name} : {test_mse}\")"
      ],
      "metadata": {
        "colab": {
          "base_uri": "https://localhost:8080/"
        },
        "id": "7h9EsgLMheWr",
        "outputId": "c11d711c-00a1-48c8-971d-c522f527d271"
      },
      "execution_count": null,
      "outputs": [
        {
          "output_type": "stream",
          "name": "stdout",
          "text": [
            "ЛУЧШАЯ ПРАВИЛЬНАЯ ОЦЕНКА ДЛЯ electronics-store : 5.471183789600339e+36\n",
            "ФИНАЛЬНАЯ ТЕСТОВАЯ ОЦЕНКА ДЛЯ electronics-store : 5.47029399695197e+36\n"
          ]
        }
      ]
    },
    {
      "cell_type": "markdown",
      "source": [
        "###Сохранение модели и загрузка"
      ],
      "metadata": {
        "id": "CXF5KlYERnYa"
      }
    },
    {
      "cell_type": "code",
      "source": [
        "clf.feature_importances_"
      ],
      "metadata": {
        "colab": {
          "base_uri": "https://localhost:8080/"
        },
        "id": "v5s1UAL4hfxS",
        "outputId": "ab19212d-1a8c-4971-d401-be5e60de3299"
      },
      "execution_count": null,
      "outputs": [
        {
          "output_type": "execute_result",
          "data": {
            "text/plain": [
              "array([0.       , 0.8483379, 0.1516621, 0.       ])"
            ]
          },
          "metadata": {},
          "execution_count": 11
        }
      ]
    },
    {
      "cell_type": "code",
      "source": [
        "explain_matrix, masks = clf.explain(X_test)"
      ],
      "metadata": {
        "id": "_eSMLHhOhhSL"
      },
      "execution_count": null,
      "outputs": []
    },
    {
      "cell_type": "code",
      "source": [
        "from matplotlib import pyplot as plt\n",
        "%matplotlib inline"
      ],
      "metadata": {
        "id": "KJvPM_wxhix_"
      },
      "execution_count": null,
      "outputs": []
    },
    {
      "cell_type": "code",
      "source": [
        "fig, axs = plt.subplots(1, 3, figsize=(20,20))\n",
        "\n",
        "for i in range(3):\n",
        "    axs[i].imshow(masks[i][:50])\n",
        "    axs[i].set_title(f\"mask {i}\")"
      ],
      "metadata": {
        "colab": {
          "base_uri": "https://localhost:8080/"
        },
        "id": "EvXF6yH7hkMn",
        "outputId": "2fa59567-e950-4b65-b12f-9d871a3a71c8"
      },
      "execution_count": null,
      "outputs": [
        {
          "output_type": "display_data",
          "data": {
            "text/plain": [
              "<Figure size 2000x2000 with 3 Axes>"
            ],
            "image/png": "[encoded data removed]"
          },
          "metadata": {}
        }
      ]
    }
  ]
}