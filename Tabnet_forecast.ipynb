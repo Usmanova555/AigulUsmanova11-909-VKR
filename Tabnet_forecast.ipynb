{
  "cells": [
    {
      "cell_type": "code",
      "source": [
        "!pip install pytorch-tabnet\n",
        "!pip install wget\n",
        "from pytorch_tabnet.tab_model import TabNetRegressor\n",
        "\n",
        "import torch\n",
        "from sklearn.preprocessing import LabelEncoder\n",
        "from sklearn.metrics import mean_squared_error\n",
        "\n",
        "import pandas as pd\n",
        "import numpy as np\n",
        "np.random.seed(0)\n",
        "\n",
        "\n",
        "import os\n",
        "import wget\n",
        "from pathlib import Path"
      ],
      "metadata": {
        "id": "kNeIGKwZk-PW",
        "colab": {
          "base_uri": "https://localhost:8080/"
        },
        "outputId": "c6ac7b64-3328-44f5-fb54-6f493806be7e"
      },
      "execution_count": null,
      "outputs": [
        {
          "output_type": "stream",
          "name": "stdout",
          "text": [
            "Looking in indexes: https://pypi.org/simple, https://us-python.pkg.dev/colab-wheels/public/simple/\n",
            "Collecting pytorch-tabnet\n",
            "  Downloading pytorch_tabnet-4.0-py3-none-any.whl (41 kB)\n",
            "\u001b[2K     \u001b[90m━━━━━━━━━━━━━━━━━━━━━━━━━━━━━━━━━━━━━━━━\u001b[0m \u001b[32m41.8/41.8 kB\u001b[0m \u001b[31m3.1 MB/s\u001b[0m eta \u001b[36m0:00:00\u001b[0m\n",
            "\u001b[?25hRequirement already satisfied: numpy<2.0,>=1.17 in /usr/local/lib/python3.9/dist-packages (from pytorch-tabnet) (1.22.4)\n",
            "Collecting torch<2.0,>=1.2\n",
            "  Downloading torch-1.13.1-cp39-cp39-manylinux1_x86_64.whl (887.4 MB)\n",
            "\u001b[2K     \u001b[90m━━━━━━━━━━━━━━━━━━━━━━━━━━━━━━━━━━━━━━━\u001b[0m \u001b[32m887.4/887.4 MB\u001b[0m \u001b[31m1.6 MB/s\u001b[0m eta \u001b[36m0:00:00\u001b[0m\n",
            "\u001b[?25hRequirement already satisfied: scikit_learn>0.21 in /usr/local/lib/python3.9/dist-packages (from pytorch-tabnet) (1.2.2)\n",
            "Requirement already satisfied: scipy>1.4 in /usr/local/lib/python3.9/dist-packages (from pytorch-tabnet) (1.10.1)\n",
            "Requirement already satisfied: tqdm<5.0,>=4.36 in /usr/local/lib/python3.9/dist-packages (from pytorch-tabnet) (4.65.0)\n",
            "Requirement already satisfied: joblib>=1.1.1 in /usr/local/lib/python3.9/dist-packages (from scikit_learn>0.21->pytorch-tabnet) (1.2.0)\n",
            "Requirement already satisfied: threadpoolctl>=2.0.0 in /usr/local/lib/python3.9/dist-packages (from scikit_learn>0.21->pytorch-tabnet) (3.1.0)\n",
            "Collecting nvidia-cudnn-cu11==8.5.0.96\n",
            "  Downloading nvidia_cudnn_cu11-8.5.0.96-2-py3-none-manylinux1_x86_64.whl (557.1 MB)\n",
            "\u001b[2K     \u001b[90m━━━━━━━━━━━━━━━━━━━━━━━━━━━━━━━━━━━━━━━\u001b[0m \u001b[32m557.1/557.1 MB\u001b[0m \u001b[31m2.5 MB/s\u001b[0m eta \u001b[36m0:00:00\u001b[0m\n",
            "\u001b[?25hRequirement already satisfied: typing-extensions in /usr/local/lib/python3.9/dist-packages (from torch<2.0,>=1.2->pytorch-tabnet) (4.5.0)\n",
            "Collecting nvidia-cuda-nvrtc-cu11==11.7.99\n",
            "  Downloading nvidia_cuda_nvrtc_cu11-11.7.99-2-py3-none-manylinux1_x86_64.whl (21.0 MB)\n",
            "\u001b[2K     \u001b[90m━━━━━━━━━━━━━━━━━━━━━━━━━━━━━━━━━━━━━━━━\u001b[0m \u001b[32m21.0/21.0 MB\u001b[0m \u001b[31m63.9 MB/s\u001b[0m eta \u001b[36m0:00:00\u001b[0m\n",
            "\u001b[?25hCollecting nvidia-cuda-runtime-cu11==11.7.99\n",
            "  Downloading nvidia_cuda_runtime_cu11-11.7.99-py3-none-manylinux1_x86_64.whl (849 kB)\n",
            "\u001b[2K     \u001b[90m━━━━━━━━━━━━━━━━━━━━━━━━━━━━━━━━━━━━━━\u001b[0m \u001b[32m849.3/849.3 kB\u001b[0m \u001b[31m51.1 MB/s\u001b[0m eta \u001b[36m0:00:00\u001b[0m\n",
            "\u001b[?25hCollecting nvidia-cublas-cu11==11.10.3.66\n",
            "  Downloading nvidia_cublas_cu11-11.10.3.66-py3-none-manylinux1_x86_64.whl (317.1 MB)\n",
            "\u001b[2K     \u001b[90m━━━━━━━━━━━━━━━━━━━━━━━━━━━━━━━━━━━━━━━\u001b[0m \u001b[32m317.1/317.1 MB\u001b[0m \u001b[31m4.6 MB/s\u001b[0m eta \u001b[36m0:00:00\u001b[0m\n",
            "\u001b[?25hRequirement already satisfied: wheel in /usr/local/lib/python3.9/dist-packages (from nvidia-cublas-cu11==11.10.3.66->torch<2.0,>=1.2->pytorch-tabnet) (0.40.0)\n",
            "Requirement already satisfied: setuptools in /usr/local/lib/python3.9/dist-packages (from nvidia-cublas-cu11==11.10.3.66->torch<2.0,>=1.2->pytorch-tabnet) (67.7.1)\n",
            "Installing collected packages: nvidia-cuda-runtime-cu11, nvidia-cuda-nvrtc-cu11, nvidia-cublas-cu11, nvidia-cudnn-cu11, torch, pytorch-tabnet\n",
            "  Attempting uninstall: torch\n",
            "    Found existing installation: torch 2.0.0+cu118\n",
            "    Uninstalling torch-2.0.0+cu118:\n",
            "      Successfully uninstalled torch-2.0.0+cu118\n",
            "\u001b[31mERROR: pip's dependency resolver does not currently take into account all the packages that are installed. This behaviour is the source of the following dependency conflicts.\n",
            "torchvision 0.15.1+cu118 requires torch==2.0.0, but you have torch 1.13.1 which is incompatible.\n",
            "torchtext 0.15.1 requires torch==2.0.0, but you have torch 1.13.1 which is incompatible.\n",
            "torchdata 0.6.0 requires torch==2.0.0, but you have torch 1.13.1 which is incompatible.\n",
            "torchaudio 2.0.1+cu118 requires torch==2.0.0, but you have torch 1.13.1 which is incompatible.\u001b[0m\u001b[31m\n",
            "\u001b[0mSuccessfully installed nvidia-cublas-cu11-11.10.3.66 nvidia-cuda-nvrtc-cu11-11.7.99 nvidia-cuda-runtime-cu11-11.7.99 nvidia-cudnn-cu11-8.5.0.96 pytorch-tabnet-4.0 torch-1.13.1\n",
            "Looking in indexes: https://pypi.org/simple, https://us-python.pkg.dev/colab-wheels/public/simple/\n",
            "Collecting wget\n",
            "  Downloading wget-3.2.zip (10 kB)\n",
            "  Preparing metadata (setup.py) ... \u001b[?25l\u001b[?25hdone\n",
            "Building wheels for collected packages: wget\n",
            "  Building wheel for wget (setup.py) ... \u001b[?25l\u001b[?25hdone\n",
            "  Created wheel for wget: filename=wget-3.2-py3-none-any.whl size=9676 sha256=91aa1ad0cc3f17a064752f6611c04cf62dc68e65b6117d1957b47bacf43dd560\n",
            "  Stored in directory: /root/.cache/pip/wheels/04/5f/3e/46cc37c5d698415694d83f607f833f83f0149e49b3af9d0f38\n",
            "Successfully built wget\n",
            "Installing collected packages: wget\n",
            "Successfully installed wget-3.2\n"
          ]
        }
      ]
    },
    {
      "cell_type": "markdown",
      "source": [
        "Скачивание набора данных об истории покупок электронной коммерции в магазине электроники"
      ],
      "metadata": {
        "id": "AwqrJ7w57T8z"
      }
    },
    {
      "cell_type": "code",
      "source": [
        "train = pd.read_csv('1.csv')"
      ],
      "metadata": {
        "id": "ztz0hhI19Jff"
      },
      "execution_count": null,
      "outputs": []
    },
    {
      "cell_type": "markdown",
      "source": [
        "Загрузка данных и разделение на 3 выборки для дальнейшей работы"
      ],
      "metadata": {
        "id": "Tmfrp6If9Ssr"
      }
    },
    {
      "cell_type": "code",
      "source": [
        "target = 'price'\n",
        "if \"Set\" not in train.columns:\n",
        "    train[\"Set\"] = np.random.choice([\"train\", \"valid\", \"test\"], p =[.8, .1, .1], size=(train.shape[0],))\n",
        "\n",
        "train_indices = train[train.Set==\"train\"].index\n",
        "valid_indices = train[train.Set==\"valid\"].index\n",
        "test_indices = train[train.Set==\"test\"].index\n",
        "dataset_name = 'Table 1_1'"
      ],
      "metadata": {
        "id": "zF8GSglBlKuF"
      },
      "execution_count": null,
      "outputs": []
    },
    {
      "cell_type": "markdown",
      "source": [
        "Простая предварительная обработка"
      ],
      "metadata": {
        "id": "y9U-d-6w9V-k"
      }
    },
    {
      "cell_type": "markdown",
      "source": [
        "Метки кодируют категориальные функции и заполняют пустые ячейки"
      ],
      "metadata": {
        "id": "fJMgFL9O9wgf"
      }
    },
    {
      "cell_type": "code",
      "source": [
        "categorical_columns = []\n",
        "categorical_dims =  {}\n",
        "for col in train.columns[train.dtypes == object]:\n",
        "    print(col, train[col].nunique())\n",
        "    l_enc = LabelEncoder()\n",
        "    train[col] = train[col].fillna(\"VV_likely\")\n",
        "    train[col] = l_enc.fit_transform(train[col].values)\n",
        "    categorical_columns.append(col)\n",
        "    categorical_dims[col] = len(l_enc.classes_)\n",
        "\n",
        "for col in train.columns[train.dtypes == 'float64']:\n",
        "    train.fillna(train.loc[train_indices, col].mean(), inplace=True)"
      ],
      "metadata": {
        "colab": {
          "base_uri": "https://localhost:8080/"
        },
        "id": "NJydvkzRnZMr",
        "outputId": "2f0dbbda-f850-4c3e-f9af-131e0591ab07"
      },
      "execution_count": null,
      "outputs": [
        {
          "output_type": "stream",
          "name": "stdout",
          "text": [
            "Set 3\n"
          ]
        }
      ]
    },
    {
      "cell_type": "markdown",
      "source": [
        "Определение категориальных признаков"
      ],
      "metadata": {
        "id": "Ujnv440M-KhR"
      }
    },
    {
      "cell_type": "code",
      "source": [
        "unused_feat = ['Set']\n",
        "\n",
        "features = [ col for col in train.columns if col not in unused_feat+[target]] \n",
        "\n",
        "# Список типа int индексов категориальных признаков\n",
        "cat_idxs = [ i for i, f in enumerate(features) if f in categorical_columns]\n",
        "\n",
        "# Список типа int, количество уникальных значений для категориального признака, новые модальности не могут быть предсказаны\n",
        "cat_dims = [ categorical_dims[f] for i, f in enumerate(features) if f in categorical_columns]\n",
        "\n",
        "# Список типа int размеров вложений для каждой категориальной функции (по умолчанию =1)\n",
        "# Определение размеров: здесь просто случайный набор\n",
        "cat_emb_dim = [5, 4, 3, 6, 2, 2, 9, 10]"
      ],
      "metadata": {
        "id": "PYgRCW2mng8w"
      },
      "execution_count": null,
      "outputs": []
    },
    {
      "cell_type": "markdown",
      "source": [
        "Параметры нейронной сети"
      ],
      "metadata": {
        "id": "r4i8e91V_Dbq"
      }
    },
    {
      "cell_type": "code",
      "source": [
        "clf = TabNetRegressor(cat_dims=cat_dims, cat_emb_dim=cat_emb_dim, cat_idxs=cat_idxs)\n",
        "\n",
        "train.head()"
      ],
      "metadata": {
        "colab": {
          "base_uri": "https://localhost:8080/",
          "height": 242
        },
        "id": "X98W8iCnniN_",
        "outputId": "1d9f0495-6aa5-40f7-a478-046dbdf685cd"
      },
      "execution_count": null,
      "outputs": [
        {
          "output_type": "stream",
          "name": "stderr",
          "text": [
            "/usr/local/lib/python3.9/dist-packages/pytorch_tabnet/abstract_model.py:75: UserWarning: Device used : cpu\n",
            "  warnings.warn(f\"Device used : {self.device}\")\n"
          ]
        },
        {
          "output_type": "execute_result",
          "data": {
            "text/plain": [
              "       order_id    product_id   category_id   price       user_id  Set\n",
              "0  2.294360e+18  1.515966e+18  2.268105e+18  162.01  1.515916e+18    1\n",
              "1  2.294360e+18  1.515966e+18  2.268105e+18  162.01  1.515916e+18    1\n",
              "2  2.294444e+18  2.273948e+18  2.268105e+18   77.52  1.515916e+18    1\n",
              "3  2.294444e+18  2.273948e+18  2.268105e+18   77.52  1.515916e+18    1\n",
              "4  2.294584e+18  2.273948e+18  2.268105e+18  217.57  1.515916e+18    1"
            ],
            "text/html": [
              "\n",
              "  <div id=\"df-3c7686a0-205d-4b15-a8c1-f3dd938e5db2\">\n",
              "    <div class=\"colab-df-container\">\n",
              "      <div>\n",
              "<style scoped>\n",
              "    .dataframe tbody tr th:only-of-type {\n",
              "        vertical-align: middle;\n",
              "    }\n",
              "\n",
              "    .dataframe tbody tr th {\n",
              "        vertical-align: top;\n",
              "    }\n",
              "\n",
              "    .dataframe thead th {\n",
              "        text-align: right;\n",
              "    }\n",
              "</style>\n",
              "<table border=\"1\" class=\"dataframe\">\n",
              "  <thead>\n",
              "    <tr style=\"text-align: right;\">\n",
              "      <th></th>\n",
              "      <th>order_id</th>\n",
              "      <th>product_id</th>\n",
              "      <th>category_id</th>\n",
              "      <th>price</th>\n",
              "      <th>user_id</th>\n",
              "      <th>Set</th>\n",
              "    </tr>\n",
              "  </thead>\n",
              "  <tbody>\n",
              "    <tr>\n",
              "      <th>0</th>\n",
              "      <td>2.294360e+18</td>\n",
              "      <td>1.515966e+18</td>\n",
              "      <td>2.268105e+18</td>\n",
              "      <td>162.01</td>\n",
              "      <td>1.515916e+18</td>\n",
              "      <td>1</td>\n",
              "    </tr>\n",
              "    <tr>\n",
              "      <th>1</th>\n",
              "      <td>2.294360e+18</td>\n",
              "      <td>1.515966e+18</td>\n",
              "      <td>2.268105e+18</td>\n",
              "      <td>162.01</td>\n",
              "      <td>1.515916e+18</td>\n",
              "      <td>1</td>\n",
              "    </tr>\n",
              "    <tr>\n",
              "      <th>2</th>\n",
              "      <td>2.294444e+18</td>\n",
              "      <td>2.273948e+18</td>\n",
              "      <td>2.268105e+18</td>\n",
              "      <td>77.52</td>\n",
              "      <td>1.515916e+18</td>\n",
              "      <td>1</td>\n",
              "    </tr>\n",
              "    <tr>\n",
              "      <th>3</th>\n",
              "      <td>2.294444e+18</td>\n",
              "      <td>2.273948e+18</td>\n",
              "      <td>2.268105e+18</td>\n",
              "      <td>77.52</td>\n",
              "      <td>1.515916e+18</td>\n",
              "      <td>1</td>\n",
              "    </tr>\n",
              "    <tr>\n",
              "      <th>4</th>\n",
              "      <td>2.294584e+18</td>\n",
              "      <td>2.273948e+18</td>\n",
              "      <td>2.268105e+18</td>\n",
              "      <td>217.57</td>\n",
              "      <td>1.515916e+18</td>\n",
              "      <td>1</td>\n",
              "    </tr>\n",
              "  </tbody>\n",
              "</table>\n",
              "</div>\n",
              "      <button class=\"colab-df-convert\" onclick=\"convertToInteractive('df-3c7686a0-205d-4b15-a8c1-f3dd938e5db2')\"\n",
              "              title=\"Convert this dataframe to an interactive table.\"\n",
              "              style=\"display:none;\">\n",
              "        \n",
              "  <svg xmlns=\"http://www.w3.org/2000/svg\" height=\"24px\"viewBox=\"0 0 24 24\"\n",
              "       width=\"24px\">\n",
              "    <path d=\"M0 0h24v24H0V0z\" fill=\"none\"/>\n",
              "    <path d=\"M18.56 5.44l.94 2.06.94-2.06 2.06-.94-2.06-.94-.94-2.06-.94 2.06-2.06.94zm-11 1L8.5 8.5l.94-2.06 2.06-.94-2.06-.94L8.5 2.5l-.94 2.06-2.06.94zm10 10l.94 2.06.94-2.06 2.06-.94-2.06-.94-.94-2.06-.94 2.06-2.06.94z\"/><path d=\"M17.41 7.96l-1.37-1.37c-.4-.4-.92-.59-1.43-.59-.52 0-1.04.2-1.43.59L10.3 9.45l-7.72 7.72c-.78.78-.78 2.05 0 2.83L4 21.41c.39.39.9.59 1.41.59.51 0 1.02-.2 1.41-.59l7.78-7.78 2.81-2.81c.8-.78.8-2.07 0-2.86zM5.41 20L4 18.59l7.72-7.72 1.47 1.35L5.41 20z\"/>\n",
              "  </svg>\n",
              "      </button>\n",
              "      \n",
              "  <style>\n",
              "    .colab-df-container {\n",
              "      display:flex;\n",
              "      flex-wrap:wrap;\n",
              "      gap: 12px;\n",
              "    }\n",
              "\n",
              "    .colab-df-convert {\n",
              "      background-color: #E8F0FE;\n",
              "      border: none;\n",
              "      border-radius: 50%;\n",
              "      cursor: pointer;\n",
              "      display: none;\n",
              "      fill: #1967D2;\n",
              "      height: 32px;\n",
              "      padding: 0 0 0 0;\n",
              "      width: 32px;\n",
              "    }\n",
              "\n",
              "    .colab-df-convert:hover {\n",
              "      background-color: #E2EBFA;\n",
              "      box-shadow: 0px 1px 2px rgba(60, 64, 67, 0.3), 0px 1px 3px 1px rgba(60, 64, 67, 0.15);\n",
              "      fill: #174EA6;\n",
              "    }\n",
              "\n",
              "    [theme=dark] .colab-df-convert {\n",
              "      background-color: #3B4455;\n",
              "      fill: #D2E3FC;\n",
              "    }\n",
              "\n",
              "    [theme=dark] .colab-df-convert:hover {\n",
              "      background-color: #434B5C;\n",
              "      box-shadow: 0px 1px 3px 1px rgba(0, 0, 0, 0.15);\n",
              "      filter: drop-shadow(0px 1px 2px rgba(0, 0, 0, 0.3));\n",
              "      fill: #FFFFFF;\n",
              "    }\n",
              "  </style>\n",
              "\n",
              "      <script>\n",
              "        const buttonEl =\n",
              "          document.querySelector('#df-3c7686a0-205d-4b15-a8c1-f3dd938e5db2 button.colab-df-convert');\n",
              "        buttonEl.style.display =\n",
              "          google.colab.kernel.accessAllowed ? 'block' : 'none';\n",
              "\n",
              "        async function convertToInteractive(key) {\n",
              "          const element = document.querySelector('#df-3c7686a0-205d-4b15-a8c1-f3dd938e5db2');\n",
              "          const dataTable =\n",
              "            await google.colab.kernel.invokeFunction('convertToInteractive',\n",
              "                                                     [key], {});\n",
              "          if (!dataTable) return;\n",
              "\n",
              "          const docLinkHtml = 'Like what you see? Visit the ' +\n",
              "            '<a target=\"_blank\" href=https://colab.research.google.com/notebooks/data_table.ipynb>data table notebook</a>'\n",
              "            + ' to learn more about interactive tables.';\n",
              "          element.innerHTML = '';\n",
              "          dataTable['output_type'] = 'display_data';\n",
              "          await google.colab.output.renderOutput(dataTable, element);\n",
              "          const docLink = document.createElement('div');\n",
              "          docLink.innerHTML = docLinkHtml;\n",
              "          element.appendChild(docLink);\n",
              "        }\n",
              "      </script>\n",
              "    </div>\n",
              "  </div>\n",
              "  "
            ]
          },
          "metadata": {},
          "execution_count": 9
        }
      ]
    },
    {
      "cell_type": "markdown",
      "source": [
        "### Обучение"
      ],
      "metadata": {
        "id": "XHkpSNxb_bGs"
      }
    },
    {
      "cell_type": "code",
      "source": [
        "# np.массив особенностей обучения\n",
        "X_train = train[features].values[train_indices]\n",
        "# y_train - np.массив учебных целей\n",
        "y_train = train[target].values[train_indices].reshape(-1, 1)\n",
        "\n",
        "X_valid = train[features].values[valid_indices]\n",
        "y_valid = train[target].values[valid_indices].reshape(-1, 1)\n",
        "\n",
        "X_test = train[features].values[test_indices]\n",
        "y_test = train[target].values[test_indices].reshape(-1, 1)"
      ],
      "metadata": {
        "id": "8LP2RunSnkBm"
      },
      "execution_count": null,
      "outputs": []
    },
    {
      "cell_type": "code",
      "source": [
        "max_epochs = 100 if not os.getenv(\"CI\", False) else 2"
      ],
      "metadata": {
        "id": "jS_XseR4nl-4"
      },
      "execution_count": null,
      "outputs": []
    },
    {
      "cell_type": "code",
      "source": [
        "from pytorch_tabnet.augmentations import RegressionSMOTE\n",
        "aug = RegressionSMOTE(p=0.2)"
      ],
      "metadata": {
        "id": "2xun2Hsunn15"
      },
      "execution_count": null,
      "outputs": []
    },
    {
      "cell_type": "code",
      "source": [
        "clf.fit(\n",
        "    X_train=X_train, y_train=y_train,\n",
        "    # Cписок оцениваемых наборов кортежей (X, y)\n",
        "    eval_set=[(X_train, y_train), (X_valid, y_valid)],\n",
        "    # Список строковых наборов имен eval\n",
        "    eval_name=['train', 'valid'],\n",
        "    # Список показателей оценки\n",
        "    eval_metric=['rmsle', 'mae', 'rmse', 'mse'],\n",
        "    # Целое число (по умолчанию = 200)\n",
        "    max_epochs=max_epochs,\n",
        "    # Количество последовательных периодов без улучшения перед выполнением ранней остановки\n",
        "    patience=50,\n",
        "    batch_size=1024, virtual_batch_size=128,\n",
        "    num_workers=0,\n",
        "    drop_last=False,\n",
        "    augmentations=aug, #aug\n",
        ") "
      ],
      "metadata": {
        "id": "xYPSqVU3npTp",
        "colab": {
          "base_uri": "https://localhost:8080/"
        },
        "outputId": "2edccf52-e890-4df8-9efe-db71326366d6"
      },
      "execution_count": null,
      "outputs": [
        {
          "output_type": "stream",
          "name": "stdout",
          "text": [
            "epoch 0  | loss: inf     | train_rmsle: 193.92897| train_mae: 3.293602909253039e+17| train_rmse: 8.776790245045029e+17| train_mse: 7.703204700551757e+35| valid_rmsle: 198.50468| valid_mae: 3.374222618635162e+17| valid_rmse: 8.883558502276678e+17| valid_mse: 7.891761166337227e+35|  0:00:07s\n",
            "epoch 1  | loss: nan     | train_rmsle: 199.72051| train_mae: 3.293602909253039e+17| train_rmse: 8.776790245045033e+17| train_mse: 7.703204700551763e+35| valid_rmsle: 204.52351| valid_mae: 3.3742226186351616e+17| valid_rmse: 8.883558502276681e+17| valid_mse: 7.891761166337232e+35|  0:00:12s\n",
            "epoch 2  | loss: nan     | train_rmsle: 207.11418| train_mae: 3.293602909253039e+17| train_rmse: 8.776790245045033e+17| train_mse: 7.703204700551763e+35| valid_rmsle: 212.10549| valid_mae: 3.3742226186351616e+17| valid_rmse: 8.883558502276681e+17| valid_mse: 7.891761166337232e+35|  0:00:22s\n",
            "epoch 3  | loss: nan     | train_rmsle: 215.64357| train_mae: 3.293602909253039e+17| train_rmse: 8.776790245045033e+17| train_mse: 7.703204700551763e+35| valid_rmsle: 220.7934| valid_mae: 3.374222618635162e+17| valid_rmse: 8.883558502276681e+17| valid_mse: 7.891761166337232e+35|  0:00:33s\n",
            "epoch 4  | loss: nan     | train_rmsle: 215.01897| train_mae: 3.293602909253039e+17| train_rmse: 8.776790245045033e+17| train_mse: 7.703204700551763e+35| valid_rmsle: 220.1662| valid_mae: 3.374222618635162e+17| valid_rmse: 8.883558502276681e+17| valid_mse: 7.891761166337232e+35|  0:00:40s\n",
            "epoch 5  | loss: nan     | train_rmsle: 205.22442| train_mae: 3.293602909253039e+17| train_rmse: 8.776790245045033e+17| train_mse: 7.703204700551763e+35| valid_rmsle: 210.11639| valid_mae: 3.374222618635162e+17| valid_rmse: 8.883558502276681e+17| valid_mse: 7.891761166337232e+35|  0:00:45s\n",
            "epoch 6  | loss: nan     | train_rmsle: 206.79  | train_mae: 3.293602909253039e+17| train_rmse: 8.776790245045033e+17| train_mse: 7.703204700551763e+35| valid_rmsle: 211.70882| valid_mae: 3.374222618635162e+17| valid_rmse: 8.883558502276681e+17| valid_mse: 7.891761166337232e+35|  0:00:52s\n",
            "epoch 7  | loss: nan     | train_rmsle: 208.27891| train_mae: 3.293602909253039e+17| train_rmse: 8.776790245045033e+17| train_mse: 7.703204700551763e+35| valid_rmsle: 213.21335| valid_mae: 3.374222618635162e+17| valid_rmse: 8.883558502276681e+17| valid_mse: 7.891761166337232e+35|  0:00:57s\n",
            "epoch 8  | loss: nan     | train_rmsle: 208.87317| train_mae: 3.293602909253039e+17| train_rmse: 8.776790245045033e+17| train_mse: 7.703204700551763e+35| valid_rmsle: 213.80024| valid_mae: 3.374222618635162e+17| valid_rmse: 8.883558502276681e+17| valid_mse: 7.891761166337232e+35|  0:01:02s\n",
            "epoch 9  | loss: nan     | train_rmsle: 208.9753| train_mae: 3.293602909253039e+17| train_rmse: 8.776790245045033e+17| train_mse: 7.703204700551763e+35| valid_rmsle: 213.90313| valid_mae: 3.374222618635162e+17| valid_rmse: 8.883558502276681e+17| valid_mse: 7.891761166337232e+35|  0:01:09s\n",
            "epoch 10 | loss: nan     | train_rmsle: 209.47679| train_mae: 3.293602909253039e+17| train_rmse: 8.776790245045033e+17| train_mse: 7.703204700551763e+35| valid_rmsle: 214.40401| valid_mae: 3.374222618635162e+17| valid_rmse: 8.883558502276681e+17| valid_mse: 7.891761166337232e+35|  0:01:14s\n",
            "epoch 11 | loss: nan     | train_rmsle: 209.57339| train_mae: 3.293602909253039e+17| train_rmse: 8.776790245045033e+17| train_mse: 7.703204700551763e+35| valid_rmsle: 214.49792| valid_mae: 3.374222618635162e+17| valid_rmse: 8.883558502276681e+17| valid_mse: 7.891761166337232e+35|  0:01:20s\n",
            "epoch 12 | loss: nan     | train_rmsle: 209.54918| train_mae: 3.293602909253039e+17| train_rmse: 8.776790245045033e+17| train_mse: 7.703204700551763e+35| valid_rmsle: 214.47547| valid_mae: 3.374222618635162e+17| valid_rmse: 8.883558502276681e+17| valid_mse: 7.891761166337232e+35|  0:01:25s\n",
            "epoch 13 | loss: nan     | train_rmsle: 209.54819| train_mae: 3.293602909253039e+17| train_rmse: 8.776790245045033e+17| train_mse: 7.703204700551763e+35| valid_rmsle: 214.47272| valid_mae: 3.374222618635162e+17| valid_rmse: 8.883558502276681e+17| valid_mse: 7.891761166337232e+35|  0:01:30s\n",
            "epoch 14 | loss: nan     | train_rmsle: 209.77613| train_mae: 3.293602909253039e+17| train_rmse: 8.776790245045033e+17| train_mse: 7.703204700551763e+35| valid_rmsle: 214.7019| valid_mae: 3.374222618635162e+17| valid_rmse: 8.883558502276681e+17| valid_mse: 7.891761166337232e+35|  0:01:37s\n",
            "epoch 15 | loss: nan     | train_rmsle: 209.82496| train_mae: 3.293602909253039e+17| train_rmse: 8.776790245045033e+17| train_mse: 7.703204700551763e+35| valid_rmsle: 214.75775| valid_mae: 3.374222618635162e+17| valid_rmse: 8.883558502276681e+17| valid_mse: 7.891761166337232e+35|  0:01:42s\n",
            "epoch 16 | loss: nan     | train_rmsle: 209.70325| train_mae: 3.293602909253039e+17| train_rmse: 8.776790245045033e+17| train_mse: 7.703204700551763e+35| valid_rmsle: 214.63049| valid_mae: 3.374222618635162e+17| valid_rmse: 8.883558502276681e+17| valid_mse: 7.891761166337232e+35|  0:01:48s\n",
            "epoch 17 | loss: nan     | train_rmsle: 209.70083| train_mae: 3.293602909253039e+17| train_rmse: 8.776790245045033e+17| train_mse: 7.703204700551763e+35| valid_rmsle: 214.62642| valid_mae: 3.374222618635162e+17| valid_rmse: 8.883558502276681e+17| valid_mse: 7.891761166337232e+35|  0:01:54s\n",
            "epoch 18 | loss: nan     | train_rmsle: 209.26141| train_mae: 3.293602909253039e+17| train_rmse: 8.776790245045033e+17| train_mse: 7.703204700551763e+35| valid_rmsle: 214.18823| valid_mae: 3.374222618635162e+17| valid_rmse: 8.883558502276681e+17| valid_mse: 7.891761166337232e+35|  0:01:59s\n",
            "epoch 19 | loss: nan     | train_rmsle: 209.55979| train_mae: 3.293602909253039e+17| train_rmse: 8.776790245045033e+17| train_mse: 7.703204700551763e+35| valid_rmsle: 214.48455| valid_mae: 3.374222618635162e+17| valid_rmse: 8.883558502276681e+17| valid_mse: 7.891761166337232e+35|  0:02:06s\n",
            "epoch 20 | loss: nan     | train_rmsle: 209.69198| train_mae: 3.293602909253039e+17| train_rmse: 8.776790245045033e+17| train_mse: 7.703204700551763e+35| valid_rmsle: 214.61921| valid_mae: 3.374222618635162e+17| valid_rmse: 8.883558502276681e+17| valid_mse: 7.891761166337232e+35|  0:02:11s\n",
            "epoch 21 | loss: nan     | train_rmsle: 209.69307| train_mae: 3.293602909253039e+17| train_rmse: 8.776790245045033e+17| train_mse: 7.703204700551763e+35| valid_rmsle: 214.61839| valid_mae: 3.374222618635162e+17| valid_rmse: 8.883558502276681e+17| valid_mse: 7.891761166337232e+35|  0:02:16s\n",
            "epoch 22 | loss: nan     | train_rmsle: 209.46734| train_mae: 3.293602909253039e+17| train_rmse: 8.776790245045033e+17| train_mse: 7.703204700551763e+35| valid_rmsle: 214.39085| valid_mae: 3.374222618635162e+17| valid_rmse: 8.883558502276681e+17| valid_mse: 7.891761166337232e+35|  0:02:23s\n",
            "epoch 23 | loss: nan     | train_rmsle: 209.63391| train_mae: 3.293602909253039e+17| train_rmse: 8.776790245045033e+17| train_mse: 7.703204700551763e+35| valid_rmsle: 214.55864| valid_mae: 3.374222618635162e+17| valid_rmse: 8.883558502276681e+17| valid_mse: 7.891761166337232e+35|  0:02:32s\n",
            "epoch 24 | loss: nan     | train_rmsle: 209.86845| train_mae: 3.293602909253039e+17| train_rmse: 8.776790245045033e+17| train_mse: 7.703204700551763e+35| valid_rmsle: 214.80017| valid_mae: 3.374222618635162e+17| valid_rmse: 8.883558502276681e+17| valid_mse: 7.891761166337232e+35|  0:02:40s\n",
            "epoch 25 | loss: nan     | train_rmsle: 209.71776| train_mae: 3.293602909253039e+17| train_rmse: 8.776790245045033e+17| train_mse: 7.703204700551763e+35| valid_rmsle: 214.64674| valid_mae: 3.374222618635162e+17| valid_rmse: 8.883558502276681e+17| valid_mse: 7.891761166337232e+35|  0:02:45s\n",
            "epoch 26 | loss: nan     | train_rmsle: 209.74236| train_mae: 3.293602909253039e+17| train_rmse: 8.776790245045033e+17| train_mse: 7.703204700551763e+35| valid_rmsle: 214.66937| valid_mae: 3.374222618635162e+17| valid_rmse: 8.883558502276681e+17| valid_mse: 7.891761166337232e+35|  0:02:52s\n",
            "epoch 27 | loss: nan     | train_rmsle: 209.66795| train_mae: 3.293602909253039e+17| train_rmse: 8.776790245045033e+17| train_mse: 7.703204700551763e+35| valid_rmsle: 214.59359| valid_mae: 3.374222618635162e+17| valid_rmse: 8.883558502276681e+17| valid_mse: 7.891761166337232e+35|  0:02:57s\n",
            "epoch 28 | loss: nan     | train_rmsle: 209.6352| train_mae: 3.293602909253039e+17| train_rmse: 8.776790245045033e+17| train_mse: 7.703204700551763e+35| valid_rmsle: 214.56046| valid_mae: 3.374222618635162e+17| valid_rmse: 8.883558502276681e+17| valid_mse: 7.891761166337232e+35|  0:03:02s\n",
            "epoch 29 | loss: nan     | train_rmsle: 209.61901| train_mae: 3.293602909253039e+17| train_rmse: 8.776790245045033e+17| train_mse: 7.703204700551763e+35| valid_rmsle: 214.54391| valid_mae: 3.374222618635162e+17| valid_rmse: 8.883558502276681e+17| valid_mse: 7.891761166337232e+35|  0:03:09s\n",
            "epoch 30 | loss: nan     | train_rmsle: 209.41734| train_mae: 3.293602909253039e+17| train_rmse: 8.776790245045033e+17| train_mse: 7.703204700551763e+35| valid_rmsle: 214.34646| valid_mae: 3.374222618635162e+17| valid_rmse: 8.883558502276681e+17| valid_mse: 7.891761166337232e+35|  0:03:14s\n",
            "epoch 31 | loss: nan     | train_rmsle: 209.44271| train_mae: 3.293602909253039e+17| train_rmse: 8.776790245045033e+17| train_mse: 7.703204700551763e+35| valid_rmsle: 214.36423| valid_mae: 3.374222618635162e+17| valid_rmse: 8.883558502276681e+17| valid_mse: 7.891761166337232e+35|  0:03:19s\n",
            "epoch 32 | loss: nan     | train_rmsle: 209.63403| train_mae: 3.293602909253039e+17| train_rmse: 8.776790245045033e+17| train_mse: 7.703204700551763e+35| valid_rmsle: 214.56296| valid_mae: 3.374222618635162e+17| valid_rmse: 8.883558502276681e+17| valid_mse: 7.891761166337232e+35|  0:03:25s\n",
            "epoch 33 | loss: nan     | train_rmsle: 209.65202| train_mae: 3.293602909253039e+17| train_rmse: 8.776790245045033e+17| train_mse: 7.703204700551763e+35| valid_rmsle: 214.578 | valid_mae: 3.374222618635162e+17| valid_rmse: 8.883558502276681e+17| valid_mse: 7.891761166337232e+35|  0:03:30s\n",
            "epoch 34 | loss: nan     | train_rmsle: 209.59371| train_mae: 3.293602909253039e+17| train_rmse: 8.776790245045033e+17| train_mse: 7.703204700551763e+35| valid_rmsle: 214.51712| valid_mae: 3.374222618635162e+17| valid_rmse: 8.883558502276681e+17| valid_mse: 7.891761166337232e+35|  0:03:37s\n",
            "epoch 35 | loss: nan     | train_rmsle: 209.52239| train_mae: 3.293602909253039e+17| train_rmse: 8.776790245045033e+17| train_mse: 7.703204700551763e+35| valid_rmsle: 214.44573| valid_mae: 3.374222618635162e+17| valid_rmse: 8.883558502276681e+17| valid_mse: 7.891761166337232e+35|  0:03:43s\n",
            "epoch 36 | loss: nan     | train_rmsle: 209.60469| train_mae: 3.293602909253039e+17| train_rmse: 8.776790245045033e+17| train_mse: 7.703204700551763e+35| valid_rmsle: 214.53417| valid_mae: 3.374222618635162e+17| valid_rmse: 8.883558502276681e+17| valid_mse: 7.891761166337232e+35|  0:03:49s\n",
            "epoch 37 | loss: nan     | train_rmsle: 209.71534| train_mae: 3.293602909253039e+17| train_rmse: 8.776790245045033e+17| train_mse: 7.703204700551763e+35| valid_rmsle: 214.64068| valid_mae: 3.374222618635162e+17| valid_rmse: 8.883558502276681e+17| valid_mse: 7.891761166337232e+35|  0:03:55s\n",
            "epoch 38 | loss: nan     | train_rmsle: 209.70482| train_mae: 3.293602909253039e+17| train_rmse: 8.776790245045033e+17| train_mse: 7.703204700551763e+35| valid_rmsle: 214.6286| valid_mae: 3.374222618635162e+17| valid_rmse: 8.883558502276681e+17| valid_mse: 7.891761166337232e+35|  0:04:00s\n",
            "epoch 39 | loss: nan     | train_rmsle: 209.67785| train_mae: 3.293602909253039e+17| train_rmse: 8.776790245045033e+17| train_mse: 7.703204700551763e+35| valid_rmsle: 214.60146| valid_mae: 3.374222618635162e+17| valid_rmse: 8.883558502276681e+17| valid_mse: 7.891761166337232e+35|  0:04:07s\n",
            "epoch 40 | loss: nan     | train_rmsle: 209.56356| train_mae: 3.293602909253039e+17| train_rmse: 8.776790245045033e+17| train_mse: 7.703204700551763e+35| valid_rmsle: 214.49334| valid_mae: 3.374222618635162e+17| valid_rmse: 8.883558502276681e+17| valid_mse: 7.891761166337232e+35|  0:04:12s\n",
            "epoch 41 | loss: nan     | train_rmsle: 209.69199| train_mae: 3.293602909253039e+17| train_rmse: 8.776790245045033e+17| train_mse: 7.703204700551763e+35| valid_rmsle: 214.61991| valid_mae: 3.374222618635162e+17| valid_rmse: 8.883558502276681e+17| valid_mse: 7.891761166337232e+35|  0:04:18s\n",
            "epoch 42 | loss: nan     | train_rmsle: 209.7313| train_mae: 3.293602909253039e+17| train_rmse: 8.776790245045033e+17| train_mse: 7.703204700551763e+35| valid_rmsle: 214.65927| valid_mae: 3.374222618635162e+17| valid_rmse: 8.883558502276681e+17| valid_mse: 7.891761166337232e+35|  0:04:25s\n",
            "epoch 43 | loss: nan     | train_rmsle: 209.94667| train_mae: 3.293602909253039e+17| train_rmse: 8.776790245045033e+17| train_mse: 7.703204700551763e+35| valid_rmsle: 214.87702| valid_mae: 3.374222618635162e+17| valid_rmse: 8.883558502276681e+17| valid_mse: 7.891761166337232e+35|  0:04:30s\n",
            "epoch 44 | loss: nan     | train_rmsle: 209.67172| train_mae: 3.293602909253039e+17| train_rmse: 8.776790245045033e+17| train_mse: 7.703204700551763e+35| valid_rmsle: 214.59626| valid_mae: 3.374222618635162e+17| valid_rmse: 8.883558502276681e+17| valid_mse: 7.891761166337232e+35|  0:04:37s\n",
            "epoch 45 | loss: nan     | train_rmsle: 209.4559| train_mae: 3.293602909253039e+17| train_rmse: 8.776790245045033e+17| train_mse: 7.703204700551763e+35| valid_rmsle: 214.3771| valid_mae: 3.374222618635162e+17| valid_rmse: 8.883558502276681e+17| valid_mse: 7.891761166337232e+35|  0:04:42s\n",
            "epoch 46 | loss: nan     | train_rmsle: 209.71808| train_mae: 3.293602909253039e+17| train_rmse: 8.776790245045033e+17| train_mse: 7.703204700551763e+35| valid_rmsle: 214.64486| valid_mae: 3.374222618635162e+17| valid_rmse: 8.883558502276681e+17| valid_mse: 7.891761166337232e+35|  0:04:46s\n",
            "epoch 47 | loss: nan     | train_rmsle: 209.55568| train_mae: 3.293602909253039e+17| train_rmse: 8.776790245045033e+17| train_mse: 7.703204700551763e+35| valid_rmsle: 214.47842| valid_mae: 3.374222618635162e+17| valid_rmse: 8.883558502276681e+17| valid_mse: 7.891761166337232e+35|  0:04:53s\n",
            "epoch 48 | loss: nan     | train_rmsle: 209.93288| train_mae: 3.293602909253039e+17| train_rmse: 8.776790245045033e+17| train_mse: 7.703204700551763e+35| valid_rmsle: 214.863 | valid_mae: 3.374222618635162e+17| valid_rmse: 8.883558502276681e+17| valid_mse: 7.891761166337232e+35|  0:04:58s\n",
            "epoch 49 | loss: nan     | train_rmsle: 209.88771| train_mae: 3.293602909253039e+17| train_rmse: 8.776790245045033e+17| train_mse: 7.703204700551763e+35| valid_rmsle: 214.81635| valid_mae: 3.374222618635162e+17| valid_rmse: 8.883558502276681e+17| valid_mse: 7.891761166337232e+35|  0:05:04s\n",
            "epoch 50 | loss: nan     | train_rmsle: 209.71155| train_mae: 3.293602909253039e+17| train_rmse: 8.776790245045033e+17| train_mse: 7.703204700551763e+35| valid_rmsle: 214.63987| valid_mae: 3.374222618635162e+17| valid_rmse: 8.883558502276681e+17| valid_mse: 7.891761166337232e+35|  0:05:10s\n",
            "\n",
            "Early stopping occurred at epoch 50 with best_epoch = 0 and best_valid_mse = 7.891761166337227e+35\n"
          ]
        },
        {
          "output_type": "stream",
          "name": "stderr",
          "text": [
            "/usr/local/lib/python3.9/dist-packages/pytorch_tabnet/callbacks.py:172: UserWarning: Best weights from best epoch are automatically used!\n",
            "  warnings.warn(wrn_msg)\n"
          ]
        }
      ]
    },
    {
      "cell_type": "code",
      "source": [
        "preds = clf.predict(X_test)\n",
        "\n",
        "y_true = y_test\n",
        "\n",
        "test_score = mean_squared_error(y_pred=preds, y_true=y_true)\n",
        "\n",
        "print(f\"ЛУЧШАЯ ПРАВИЛЬНАЯ ОЦЕНКА ДЛЯ {dataset_name} : {clf.best_cost}\")\n",
        "print(f\"ФИНАЛЬНАЯ ТЕСТОВАЯ ОЦЕНКА ДЛЯ {dataset_name} : {test_score}\")"
      ],
      "metadata": {
        "id": "ga8IiQ27nqx6",
        "colab": {
          "base_uri": "https://localhost:8080/"
        },
        "outputId": "ea1e82b5-aa92-4be4-f324-6c44b40cdc37"
      },
      "execution_count": null,
      "outputs": [
        {
          "output_type": "stream",
          "name": "stdout",
          "text": [
            "ЛУЧШАЯ ПРАВИЛЬНАЯ ОЦЕНКА ДЛЯ Table 1_1 : 7.891761166337227e+35\n",
            "ФИНАЛЬНАЯ ТЕСТОВАЯ ОЦЕНКА ДЛЯ Table 1_1 : 7.677328404783293e+35\n"
          ]
        }
      ]
    },
    {
      "cell_type": "markdown",
      "source": [
        "### Сохранение модели и загрузка"
      ],
      "metadata": {
        "id": "N1NHhHOH_6v7"
      }
    },
    {
      "cell_type": "code",
      "source": [
        "# Сохранение модели\n",
        "saving_path_name = \"./tabnet_model_test_1\"\n",
        "saved_filepath = clf.save_model(saving_path_name)"
      ],
      "metadata": {
        "id": "uW7xrPKSqAM1",
        "colab": {
          "base_uri": "https://localhost:8080/"
        },
        "outputId": "190b20ef-420e-40c2-b9ef-51d46d9799fb"
      },
      "execution_count": null,
      "outputs": [
        {
          "output_type": "stream",
          "name": "stdout",
          "text": [
            "Successfully saved model at ./tabnet_model_test_1.zip\n"
          ]
        }
      ]
    },
    {
      "cell_type": "code",
      "source": [
        "# Определение новой модели с базовыми параметрами и весами состояния загрузки\n",
        "loaded_clf = TabNetRegressor()\n",
        "loaded_clf.load_model(saved_filepath)"
      ],
      "metadata": {
        "id": "bVlSsY-sqCjB",
        "colab": {
          "base_uri": "https://localhost:8080/"
        },
        "outputId": "1f99e4b9-cf00-4455-c84c-9eb3c4b01890"
      },
      "execution_count": null,
      "outputs": [
        {
          "output_type": "stream",
          "name": "stderr",
          "text": [
            "/usr/local/lib/python3.9/dist-packages/pytorch_tabnet/abstract_model.py:75: UserWarning: Device used : cpu\n",
            "  warnings.warn(f\"Device used : {self.device}\")\n"
          ]
        }
      ]
    },
    {
      "cell_type": "code",
      "source": [
        "loaded_preds = loaded_clf.predict(X_test)\n",
        "loaded_test_mse = mean_squared_error(loaded_preds, y_test)\n",
        "\n",
        "print(f\"ОКОНЧАТЕЛЬНАЯ ТЕСТОВАЯ ОЦЕНКА ДЛЯ {dataset_name} : {loaded_test_mse}\")"
      ],
      "metadata": {
        "id": "niYjIBPkqD4T",
        "colab": {
          "base_uri": "https://localhost:8080/"
        },
        "outputId": "d326b467-10ab-48f8-d47a-874187a7f57f"
      },
      "execution_count": null,
      "outputs": [
        {
          "output_type": "stream",
          "name": "stdout",
          "text": [
            "ОКОНЧАТЕЛЬНАЯ ТЕСТОВАЯ ОЦЕНКА ДЛЯ Table 1_1 : 7.677328404783293e+35\n"
          ]
        }
      ]
    },
    {
      "cell_type": "code",
      "source": [
        "assert(test_score == loaded_test_mse)"
      ],
      "metadata": {
        "id": "FPhxE96VqFIR"
      },
      "execution_count": null,
      "outputs": []
    },
    {
      "cell_type": "markdown",
      "source": [
        "### Нахождение вектора \"важностей\" признаков"
      ],
      "metadata": {
        "id": "8H2PBBL3AIaK"
      }
    },
    {
      "cell_type": "code",
      "source": [
        "clf.feature_importances_"
      ],
      "metadata": {
        "id": "KsoIG9anqGbP",
        "colab": {
          "base_uri": "https://localhost:8080/"
        },
        "outputId": "4d52a940-7859-49f0-bc50-0b041e28063d"
      },
      "execution_count": null,
      "outputs": [
        {
          "output_type": "execute_result",
          "data": {
            "text/plain": [
              "array([7.31913695e-01, 1.27315290e-04, 1.69693012e-01, 9.82659777e-02])"
            ]
          },
          "metadata": {},
          "execution_count": 19
        }
      ]
    },
    {
      "cell_type": "markdown",
      "source": [
        "### Локальное линейное приближение поведения модели и маски"
      ],
      "metadata": {
        "id": "pjS9p_vDB-Z3"
      }
    },
    {
      "cell_type": "code",
      "source": [
        "explain_matrix, masks = clf.explain(X_test)"
      ],
      "metadata": {
        "id": "3RmFS31nqICo"
      },
      "execution_count": null,
      "outputs": []
    },
    {
      "cell_type": "code",
      "source": [
        "from matplotlib import pyplot as plt\n",
        "%matplotlib inline"
      ],
      "metadata": {
        "id": "BXcKD-OpqJQ2"
      },
      "execution_count": null,
      "outputs": []
    },
    {
      "cell_type": "code",
      "source": [
        "fig, axs = plt.subplots(1, 3, figsize=(20,20))\n",
        "\n",
        "for i in range(3):\n",
        "    axs[i].imshow(masks[i][:50])\n",
        "    axs[i].set_title(f\"mask {i}\")"
      ],
      "metadata": {
        "id": "kK8dnjO2qKd-",
        "colab": {
          "base_uri": "https://localhost:8080/",
          "height": 1000
        },
        "outputId": "21514e20-1cc3-411e-c369-ea3031ba635a"
      },
      "execution_count": null,
      "outputs": [
        {
          "output_type": "display_data",
          "data": {
            "text/plain": [
              "<Figure size 2000x2000 with 3 Axes>"
            ],
            "image/png": "[encoded data removed]"
          },
          "metadata": {}
        }
      ]
    },
    {
      "cell_type": "markdown",
      "source": [
        "XGB - алгоритм машинного обучения, основанный на дереве поиска решений и использующий фреймворк градиентного бустинга"
      ],
      "metadata": {
        "id": "QcBQuBMUC8ey"
      }
    },
    {
      "cell_type": "code",
      "source": [
        "from xgboost import XGBRegressor\n",
        "\n",
        "clf_xgb = XGBRegressor(max_depth=8,\n",
        "    learning_rate=0.1,\n",
        "    n_estimators=1000,\n",
        "    verbosity=0,\n",
        "    silent=None,\n",
        "    objective='reg:linear',\n",
        "    booster='gbtree',\n",
        "    n_jobs=-1,\n",
        "    nthread=None,\n",
        "    gamma=0,\n",
        "    min_child_weight=1,\n",
        "    max_delta_step=0,\n",
        "    subsample=0.7,\n",
        "    colsample_bytree=1,\n",
        "    colsample_bylevel=1,\n",
        "    colsample_bynode=1,\n",
        "    reg_alpha=0,\n",
        "    reg_lambda=1,\n",
        "    scale_pos_weight=1,\n",
        "    base_score=0.5,\n",
        "    random_state=0,\n",
        "    seed=None,)\n",
        "\n",
        "clf_xgb.fit(X_train, y_train,\n",
        "        eval_set=[(X_valid, y_valid)],\n",
        "        early_stopping_rounds=40,\n",
        "        verbose=10)"
      ],
      "metadata": {
        "id": "swNxSRbFqLov",
        "colab": {
          "base_uri": "https://localhost:8080/",
          "height": 626
        },
        "outputId": "9a46469c-6311-4e60-9f16-c954aac7926a"
      },
      "execution_count": null,
      "outputs": [
        {
          "output_type": "stream",
          "name": "stdout",
          "text": [
            "[0]\tvalidation_0-rmse:876359301528936192.00000\n",
            "[10]\tvalidation_0-rmse:829223553626008576.00000\n"
          ]
        },
        {
          "output_type": "stream",
          "name": "stderr",
          "text": [
            "/usr/local/lib/python3.9/dist-packages/xgboost/sklearn.py:835: UserWarning: `early_stopping_rounds` in `fit` method is deprecated for better compatibility with scikit-learn, use `early_stopping_rounds` in constructor or`set_params` instead.\n",
            "  warnings.warn(\n"
          ]
        },
        {
          "output_type": "stream",
          "name": "stdout",
          "text": [
            "[20]\tvalidation_0-rmse:822996706444069760.00000\n",
            "[30]\tvalidation_0-rmse:822042673067186048.00000\n",
            "[40]\tvalidation_0-rmse:821886040418591360.00000\n",
            "[50]\tvalidation_0-rmse:821832515814413056.00000\n",
            "[60]\tvalidation_0-rmse:821816560206268544.00000\n",
            "[70]\tvalidation_0-rmse:821810436664924288.00000\n",
            "[80]\tvalidation_0-rmse:821778160365292800.00000\n",
            "[90]\tvalidation_0-rmse:821786725698317952.00000\n",
            "[100]\tvalidation_0-rmse:821776843533472256.00000\n",
            "[110]\tvalidation_0-rmse:821766752225932416.00000\n",
            "[120]\tvalidation_0-rmse:821767170385641472.00000\n",
            "[130]\tvalidation_0-rmse:821741070391766144.00000\n",
            "[140]\tvalidation_0-rmse:821739561818098560.00000\n",
            "[150]\tvalidation_0-rmse:821743341771411968.00000\n",
            "[160]\tvalidation_0-rmse:821740211363905152.00000\n",
            "[170]\tvalidation_0-rmse:821744955851864192.00000\n",
            "[174]\tvalidation_0-rmse:821739123750758784.00000\n"
          ]
        },
        {
          "output_type": "execute_result",
          "data": {
            "text/plain": [
              "XGBRegressor(base_score=0.5, booster='gbtree', callbacks=None,\n",
              "             colsample_bylevel=1, colsample_bynode=1, colsample_bytree=1,\n",
              "             early_stopping_rounds=None, enable_categorical=False,\n",
              "             eval_metric=None, feature_types=None, gamma=0, gpu_id=None,\n",
              "             grow_policy=None, importance_type=None,\n",
              "             interaction_constraints=None, learning_rate=0.1, max_bin=None,\n",
              "             max_cat_threshold=None, max_cat_to_onehot=None, max_delta_step=0,\n",
              "             max_depth=8, max_leaves=None, min_child_weight=1, missing=nan,\n",
              "             monotone_constraints=None, n_estimators=1000, n_jobs=-1,\n",
              "             nthread=None, num_parallel_tree=None, objective='reg:linear', ...)"
            ],
            "text/html": [
              "<style>#sk-container-id-1 {color: black;background-color: white;}#sk-container-id-1 pre{padding: 0;}#sk-container-id-1 div.sk-toggleable {background-color: white;}#sk-container-id-1 label.sk-toggleable__label {cursor: pointer;display: block;width: 100%;margin-bottom: 0;padding: 0.3em;box-sizing: border-box;text-align: center;}#sk-container-id-1 label.sk-toggleable__label-arrow:before {content: \"▸\";float: left;margin-right: 0.25em;color: #696969;}#sk-container-id-1 label.sk-toggleable__label-arrow:hover:before {color: black;}#sk-container-id-1 div.sk-estimator:hover label.sk-toggleable__label-arrow:before {color: black;}#sk-container-id-1 div.sk-toggleable__content {max-height: 0;max-width: 0;overflow: hidden;text-align: left;background-color: #f0f8ff;}#sk-container-id-1 div.sk-toggleable__content pre {margin: 0.2em;color: black;border-radius: 0.25em;background-color: #f0f8ff;}#sk-container-id-1 input.sk-toggleable__control:checked~div.sk-toggleable__content {max-height: 200px;max-width: 100%;overflow: auto;}#sk-container-id-1 input.sk-toggleable__control:checked~label.sk-toggleable__label-arrow:before {content: \"▾\";}#sk-container-id-1 div.sk-estimator input.sk-toggleable__control:checked~label.sk-toggleable__label {background-color: #d4ebff;}#sk-container-id-1 div.sk-label input.sk-toggleable__control:checked~label.sk-toggleable__label {background-color: #d4ebff;}#sk-container-id-1 input.sk-hidden--visually {border: 0;clip: rect(1px 1px 1px 1px);clip: rect(1px, 1px, 1px, 1px);height: 1px;margin: -1px;overflow: hidden;padding: 0;position: absolute;width: 1px;}#sk-container-id-1 div.sk-estimator {font-family: monospace;background-color: #f0f8ff;border: 1px dotted black;border-radius: 0.25em;box-sizing: border-box;margin-bottom: 0.5em;}#sk-container-id-1 div.sk-estimator:hover {background-color: #d4ebff;}#sk-container-id-1 div.sk-parallel-item::after {content: \"\";width: 100%;border-bottom: 1px solid gray;flex-grow: 1;}#sk-container-id-1 div.sk-label:hover label.sk-toggleable__label {background-color: #d4ebff;}#sk-container-id-1 div.sk-serial::before {content: \"\";position: absolute;border-left: 1px solid gray;box-sizing: border-box;top: 0;bottom: 0;left: 50%;z-index: 0;}#sk-container-id-1 div.sk-serial {display: flex;flex-direction: column;align-items: center;background-color: white;padding-right: 0.2em;padding-left: 0.2em;position: relative;}#sk-container-id-1 div.sk-item {position: relative;z-index: 1;}#sk-container-id-1 div.sk-parallel {display: flex;align-items: stretch;justify-content: center;background-color: white;position: relative;}#sk-container-id-1 div.sk-item::before, #sk-container-id-1 div.sk-parallel-item::before {content: \"\";position: absolute;border-left: 1px solid gray;box-sizing: border-box;top: 0;bottom: 0;left: 50%;z-index: -1;}#sk-container-id-1 div.sk-parallel-item {display: flex;flex-direction: column;z-index: 1;position: relative;background-color: white;}#sk-container-id-1 div.sk-parallel-item:first-child::after {align-self: flex-end;width: 50%;}#sk-container-id-1 div.sk-parallel-item:last-child::after {align-self: flex-start;width: 50%;}#sk-container-id-1 div.sk-parallel-item:only-child::after {width: 0;}#sk-container-id-1 div.sk-dashed-wrapped {border: 1px dashed gray;margin: 0 0.4em 0.5em 0.4em;box-sizing: border-box;padding-bottom: 0.4em;background-color: white;}#sk-container-id-1 div.sk-label label {font-family: monospace;font-weight: bold;display: inline-block;line-height: 1.2em;}#sk-container-id-1 div.sk-label-container {text-align: center;}#sk-container-id-1 div.sk-container {/* jupyter's `normalize.less` sets `[hidden] { display: none; }` but bootstrap.min.css set `[hidden] { display: none !important; }` so we also need the `!important` here to be able to override the default hidden behavior on the sphinx rendered scikit-learn.org. See: https://github.com/scikit-learn/scikit-learn/issues/21755 */display: inline-block !important;position: relative;}#sk-container-id-1 div.sk-text-repr-fallback {display: none;}</style><div id=\"sk-container-id-1\" class=\"sk-top-container\"><div class=\"sk-text-repr-fallback\"><pre>XGBRegressor(base_score=0.5, booster=&#x27;gbtree&#x27;, callbacks=None,\n",
              "             colsample_bylevel=1, colsample_bynode=1, colsample_bytree=1,\n",
              "             early_stopping_rounds=None, enable_categorical=False,\n",
              "             eval_metric=None, feature_types=None, gamma=0, gpu_id=None,\n",
              "             grow_policy=None, importance_type=None,\n",
              "             interaction_constraints=None, learning_rate=0.1, max_bin=None,\n",
              "             max_cat_threshold=None, max_cat_to_onehot=None, max_delta_step=0,\n",
              "             max_depth=8, max_leaves=None, min_child_weight=1, missing=nan,\n",
              "             monotone_constraints=None, n_estimators=1000, n_jobs=-1,\n",
              "             nthread=None, num_parallel_tree=None, objective=&#x27;reg:linear&#x27;, ...)</pre><b>In a Jupyter environment, please rerun this cell to show the HTML representation or trust the notebook. <br />On GitHub, the HTML representation is unable to render, please try loading this page with nbviewer.org.</b></div><div class=\"sk-container\" hidden><div class=\"sk-item\"><div class=\"sk-estimator sk-toggleable\"><input class=\"sk-toggleable__control sk-hidden--visually\" id=\"sk-estimator-id-1\" type=\"checkbox\" checked><label for=\"sk-estimator-id-1\" class=\"sk-toggleable__label sk-toggleable__label-arrow\">XGBRegressor</label><div class=\"sk-toggleable__content\"><pre>XGBRegressor(base_score=0.5, booster=&#x27;gbtree&#x27;, callbacks=None,\n",
              "             colsample_bylevel=1, colsample_bynode=1, colsample_bytree=1,\n",
              "             early_stopping_rounds=None, enable_categorical=False,\n",
              "             eval_metric=None, feature_types=None, gamma=0, gpu_id=None,\n",
              "             grow_policy=None, importance_type=None,\n",
              "             interaction_constraints=None, learning_rate=0.1, max_bin=None,\n",
              "             max_cat_threshold=None, max_cat_to_onehot=None, max_delta_step=0,\n",
              "             max_depth=8, max_leaves=None, min_child_weight=1, missing=nan,\n",
              "             monotone_constraints=None, n_estimators=1000, n_jobs=-1,\n",
              "             nthread=None, num_parallel_tree=None, objective=&#x27;reg:linear&#x27;, ...)</pre></div></div></div></div></div>"
            ]
          },
          "metadata": {},
          "execution_count": 23
        }
      ]
    },
    {
      "cell_type": "code",
      "source": [
        "preds = np.array(clf_xgb.predict(X_valid))\n",
        "# Измеряет среднюю сумму квадратной разности между фактическим значением и прогнозируемым значением для всех точек\n",
        "valid_auc = mean_squared_error(y_pred=preds, y_true=y_valid)\n",
        "print(valid_auc)\n",
        "\n",
        "preds = np.array(clf_xgb.predict(X_test))\n",
        "test_auc = mean_squared_error(y_pred=preds, y_true=y_test)\n",
        "print(test_auc)"
      ],
      "metadata": {
        "id": "NLxdNcXxqNDd",
        "colab": {
          "base_uri": "https://localhost:8080/"
        },
        "outputId": "59d41c54-d6c0-4ed5-dbb9-213e0e883cbc"
      },
      "execution_count": null,
      "outputs": [
        {
          "output_type": "stream",
          "name": "stdout",
          "text": [
            "6.752482341282156e+35\n",
            "6.598607748185121e+35\n"
          ]
        }
      ]
    }
  ],
  "metadata": {
    "colab": {
      "provenance": []
    },
    "kernelspec": {
      "display_name": "Python 3",
      "name": "python3"
    }
  },
  "nbformat": 4,
  "nbformat_minor": 0
}