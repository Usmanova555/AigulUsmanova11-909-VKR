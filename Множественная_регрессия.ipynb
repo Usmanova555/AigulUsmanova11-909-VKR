{
  "nbformat": 4,
  "nbformat_minor": 0,
  "metadata": {
    "colab": {
      "provenance": []
    },
    "kernelspec": {
      "name": "python3",
      "display_name": "Python 3"
    },
    "language_info": {
      "name": "python"
    }
  },
  "cells": [
    {
      "cell_type": "code",
      "execution_count": null,
      "metadata": {
        "colab": {
          "base_uri": "https://localhost:8080/"
        },
        "id": "67cRKMrNhDdd",
        "outputId": "3a533058-689e-4772-b49a-f0ac3f6df5c8"
      },
      "outputs": [
        {
          "output_type": "stream",
          "name": "stdout",
          "text": [
            "Looking in indexes: https://pypi.org/simple, https://us-python.pkg.dev/colab-wheels/public/simple/\n",
            "Requirement already satisfied: wget in /usr/local/lib/python3.9/dist-packages (3.2)\n",
            "The autoreload extension is already loaded. To reload it, use:\n",
            "  %reload_ext autoreload\n"
          ]
        }
      ],
      "source": [
        "!pip install pytorch-tabnet\n",
        "!pip install wget\n",
        "from pytorch_tabnet.tab_model import TabNetRegressor\n",
        "\n",
        "import torch\n",
        "from sklearn.preprocessing import LabelEncoder\n",
        "from sklearn.metrics import mean_squared_error\n",
        "\n",
        "import pandas as pd\n",
        "import numpy as np\n",
        "np.random.seed(0)\n",
        "\n",
        "\n",
        "import os\n",
        "import wget\n",
        "from pathlib import Path\n",
        "\n",
        "\n",
        "%load_ext autoreload\n",
        "\n",
        "%autoreload 2"
      ]
    },
    {
      "cell_type": "code",
      "source": [
        "train = pd.read_csv('data.csv')"
      ],
      "metadata": {
        "id": "mn9beClLhTbe"
      },
      "execution_count": null,
      "outputs": []
    },
    {
      "cell_type": "code",
      "source": [
        "target = 'order_id'\n",
        "if \"Set\" not in train.columns:\n",
        "    train[\"Set\"] = np.random.choice([\"train\", \"valid\", \"test\"], p =[.8, .1, .1], size=(train.shape[0],))\n",
        "\n",
        "train_indices = train[train.Set==\"train\"].index\n",
        "valid_indices = train[train.Set==\"valid\"].index\n",
        "test_indices = train[train.Set==\"test\"].index\n",
        "dataset_name = 'electronics-store'"
      ],
      "metadata": {
        "id": "aE6fw0eXhOh8"
      },
      "execution_count": null,
      "outputs": []
    },
    {
      "cell_type": "code",
      "source": [
        "categorical_columns = []\n",
        "categorical_dims =  {}\n",
        "for col in train.columns[train.dtypes == object]:\n",
        "    print(col, train[col].nunique())\n",
        "    l_enc = LabelEncoder()\n",
        "    train[col] = train[col].fillna(\"VV_likely\")\n",
        "    train[col] = l_enc.fit_transform(train[col].values)\n",
        "    categorical_columns.append(col)\n",
        "    categorical_dims[col] = len(l_enc.classes_)\n",
        "\n",
        "for col in train.columns[train.dtypes == 'float64']:\n",
        "    train.fillna(train.loc[train_indices, col].mean(), inplace=True)"
      ],
      "metadata": {
        "colab": {
          "base_uri": "https://localhost:8080/"
        },
        "id": "i6MOUKArhUCA",
        "outputId": "ee89bc81-355a-4985-a2ea-53b3a66fd790"
      },
      "execution_count": null,
      "outputs": [
        {
          "output_type": "stream",
          "name": "stdout",
          "text": [
            "Set 3\n"
          ]
        }
      ]
    },
    {
      "cell_type": "code",
      "source": [
        "unused_feat = ['Set']\n",
        "\n",
        "features = [ col for col in train.columns if col not in unused_feat+[target]] \n",
        "\n",
        "cat_idxs = [ i for i, f in enumerate(features) if f in categorical_columns]\n",
        "\n",
        "cat_dims = [ categorical_dims[f] for i, f in enumerate(features) if f in categorical_columns]\n",
        "\n",
        "# define your embedding sizes : here just a random choice\n",
        "cat_emb_dim = [5, 4, 3, 6, 2, 2, 1, 10]"
      ],
      "metadata": {
        "id": "iWrqZF0lhWD8"
      },
      "execution_count": null,
      "outputs": []
    },
    {
      "cell_type": "code",
      "source": [
        "clf = TabNetRegressor(cat_dims=cat_dims, cat_emb_dim=cat_emb_dim, cat_idxs=cat_idxs)"
      ],
      "metadata": {
        "colab": {
          "base_uri": "https://localhost:8080/"
        },
        "id": "oN8_PAYRhXxV",
        "outputId": "7abecb7a-977e-464a-9402-b2af7c16ee47"
      },
      "execution_count": null,
      "outputs": [
        {
          "output_type": "stream",
          "name": "stderr",
          "text": [
            "/usr/local/lib/python3.9/dist-packages/pytorch_tabnet/abstract_model.py:75: UserWarning: Device used : cpu\n",
            "  warnings.warn(f\"Device used : {self.device}\")\n"
          ]
        }
      ]
    },
    {
      "cell_type": "code",
      "source": [
        "n_targets = 8\n",
        "\n",
        "X_train = train[features].values[train_indices]\n",
        "y_train = train[target].values[train_indices]\n",
        "y_train = np.transpose(np.tile(y_train, (n_targets,1)))\n",
        "\n",
        "X_valid = train[features].values[valid_indices]\n",
        "y_valid = train[target].values[valid_indices]\n",
        "y_valid = np.transpose(np.tile(y_valid, (n_targets,1)))\n",
        "\n",
        "X_test = train[features].values[test_indices]\n",
        "y_test = train[target].values[test_indices]\n",
        "y_test = np.transpose(np.tile(y_test, (n_targets,1)))"
      ],
      "metadata": {
        "id": "EzgWVhgMhZlN"
      },
      "execution_count": null,
      "outputs": []
    },
    {
      "cell_type": "code",
      "source": [
        "max_epochs = 1000 if not os.getenv(\"CI\", False) else 2"
      ],
      "metadata": {
        "id": "pHLDDDjKhbJt"
      },
      "execution_count": null,
      "outputs": []
    },
    {
      "cell_type": "code",
      "source": [
        "clf.fit(\n",
        "    X_train=X_train, y_train=y_train,\n",
        "    eval_set=[(X_train, y_train), (X_valid, y_valid)],\n",
        "    eval_name=['train', 'valid'],\n",
        "    eval_metric=['rmsle', 'mae', 'rmse', 'mse'],\n",
        "    max_epochs=max_epochs,\n",
        "    patience=50,\n",
        "    batch_size=1024, virtual_batch_size=128,\n",
        "    num_workers=0,\n",
        "    drop_last=False\n",
        ") "
      ],
      "metadata": {
        "colab": {
          "base_uri": "https://localhost:8080/"
        },
        "id": "P3762HFKhcp2",
        "outputId": "f02405e2-ccd0-477b-d660-5e8728cd3e0a"
      },
      "execution_count": null,
      "outputs": [
        {
          "output_type": "stream",
          "name": "stdout",
          "text": [
            "epoch 0  | loss: inf     | train_rmsle: 1523.71064| train_mae: 2.348720000000124e+18| train_rmse: 2.348720000000055e+18| train_mse: 5.516485638400257e+36| valid_rmsle: 1524.17249| valid_mae: 2.3487200000000133e+18| valid_rmse: 2.34872000000001e+18| valid_mse: 5.516485638400049e+36|  0:00:00s\n",
            "epoch 1  | loss: nan     | train_rmsle: 1543.22922| train_mae: 2.348720000000126e+18| train_rmse: 2.348720000000055e+18| train_mse: 5.516485638400258e+36| valid_rmsle: 1542.88848| valid_mae: 2.348720000000031e+18| valid_rmse: 2.348720000000011e+18| valid_mse: 5.516485638400051e+36|  0:00:00s\n",
            "epoch 2  | loss: nan     | train_rmsle: 1409.82136| train_mae: 2.348720000000122e+18| train_rmse: 2.348720000000055e+18| train_mse: 5.516485638400257e+36| valid_rmsle: 1413.17313| valid_mae: 2.3487199999999985e+18| valid_rmse: 2.348720000000009e+18| valid_mse: 5.516485638400044e+36|  0:00:00s\n",
            "epoch 3  | loss: nan     | train_rmsle: 1335.46277| train_mae: 2.34872000000012e+18| train_rmse: 2.348720000000055e+18| train_mse: 5.516485638400257e+36| valid_rmsle: 1334.64476| valid_mae: 2.348719999999984e+18| valid_rmse: 2.3487200000000077e+18| valid_mse: 5.516485638400037e+36|  0:00:01s\n",
            "epoch 4  | loss: nan     | train_rmsle: 1274.01536| train_mae: 2.348720000000119e+18| train_rmse: 2.348720000000055e+18| train_mse: 5.516485638400257e+36| valid_rmsle: 1273.43006| valid_mae: 2.3487199999999764e+18| valid_rmse: 2.3487200000000077e+18| valid_mse: 5.516485638400037e+36|  0:00:01s\n",
            "epoch 5  | loss: nan     | train_rmsle: 1353.35288| train_mae: 2.34872000000012e+18| train_rmse: 2.348720000000055e+18| train_mse: 5.516485638400257e+36| valid_rmsle: 1353.46683| valid_mae: 2.348719999999984e+18| valid_rmse: 2.3487200000000097e+18| valid_mse: 5.516485638400047e+36|  0:00:02s\n",
            "epoch 6  | loss: nan     | train_rmsle: 1355.01641| train_mae: 2.348720000000119e+18| train_rmse: 2.348720000000055e+18| train_mse: 5.516485638400258e+36| valid_rmsle: 1354.56498| valid_mae: 2.348719999999978e+18| valid_rmse: 2.348720000000011e+18| valid_mse: 5.516485638400051e+36|  0:00:02s\n",
            "epoch 7  | loss: nan     | train_rmsle: 1409.52038| train_mae: 2.348720000000125e+18| train_rmse: 2.348720000000055e+18| train_mse: 5.516485638400258e+36| valid_rmsle: 1408.30785| valid_mae: 2.348720000000022e+18| valid_rmse: 2.348720000000011e+18| valid_mse: 5.516485638400051e+36|  0:00:02s\n",
            "epoch 8  | loss: nan     | train_rmsle: 1427.63946| train_mae: 2.3487200000001254e+18| train_rmse: 2.348720000000055e+18| train_mse: 5.516485638400258e+36| valid_rmsle: 1427.47244| valid_mae: 2.3487200000000266e+18| valid_rmse: 2.348720000000011e+18| valid_mse: 5.516485638400051e+36|  0:00:02s\n",
            "epoch 9  | loss: nan     | train_rmsle: 1278.58817| train_mae: 2.3487200000001183e+18| train_rmse: 2.348720000000055e+18| train_mse: 5.516485638400257e+36| valid_rmsle: 1278.57404| valid_mae: 2.348719999999968e+18| valid_rmse: 2.34872000000001e+18| valid_mse: 5.516485638400049e+36|  0:00:03s\n",
            "epoch 10 | loss: nan     | train_rmsle: 1283.60815| train_mae: 2.3487200000001183e+18| train_rmse: 2.348720000000055e+18| train_mse: 5.516485638400258e+36| valid_rmsle: 1283.58298| valid_mae: 2.348719999999968e+18| valid_rmse: 2.348720000000011e+18| valid_mse: 5.516485638400051e+36|  0:00:04s\n",
            "epoch 11 | loss: nan     | train_rmsle: 1289.28663| train_mae: 2.3487200000001183e+18| train_rmse: 2.348720000000055e+18| train_mse: 5.516485638400258e+36| valid_rmsle: 1289.26346| valid_mae: 2.348719999999968e+18| valid_rmse: 2.348720000000011e+18| valid_mse: 5.516485638400051e+36|  0:00:04s\n",
            "epoch 12 | loss: nan     | train_rmsle: 1293.87324| train_mae: 2.3487200000001183e+18| train_rmse: 2.348720000000055e+18| train_mse: 5.516485638400258e+36| valid_rmsle: 1293.85653| valid_mae: 2.348719999999968e+18| valid_rmse: 2.348720000000011e+18| valid_mse: 5.516485638400051e+36|  0:00:05s\n",
            "epoch 13 | loss: nan     | train_rmsle: 1298.23121| train_mae: 2.3487200000001183e+18| train_rmse: 2.348720000000055e+18| train_mse: 5.516485638400258e+36| valid_rmsle: 1298.22269| valid_mae: 2.348719999999968e+18| valid_rmse: 2.348720000000011e+18| valid_mse: 5.516485638400051e+36|  0:00:06s\n",
            "epoch 14 | loss: nan     | train_rmsle: 1302.69835| train_mae: 2.3487200000001183e+18| train_rmse: 2.348720000000055e+18| train_mse: 5.516485638400258e+36| valid_rmsle: 1302.69584| valid_mae: 2.348719999999968e+18| valid_rmse: 2.348720000000011e+18| valid_mse: 5.516485638400051e+36|  0:00:07s\n",
            "epoch 15 | loss: nan     | train_rmsle: 1307.00062| train_mae: 2.3487200000001183e+18| train_rmse: 2.348720000000055e+18| train_mse: 5.516485638400258e+36| valid_rmsle: 1307.00391| valid_mae: 2.348719999999968e+18| valid_rmse: 2.348720000000011e+18| valid_mse: 5.516485638400051e+36|  0:00:08s\n",
            "epoch 16 | loss: nan     | train_rmsle: 1311.35777| train_mae: 2.348720000000119e+18| train_rmse: 2.348720000000055e+18| train_mse: 5.516485638400258e+36| valid_rmsle: 1311.35453| valid_mae: 2.3487199999999713e+18| valid_rmse: 2.348720000000011e+18| valid_mse: 5.516485638400051e+36|  0:00:08s\n",
            "epoch 17 | loss: nan     | train_rmsle: 1315.6614| train_mae: 2.348720000000119e+18| train_rmse: 2.348720000000055e+18| train_mse: 5.516485638400258e+36| valid_rmsle: 1315.65201| valid_mae: 2.3487199999999764e+18| valid_rmse: 2.348720000000011e+18| valid_mse: 5.516485638400051e+36|  0:00:08s\n",
            "epoch 18 | loss: nan     | train_rmsle: 1319.39445| train_mae: 2.348720000000119e+18| train_rmse: 2.348720000000055e+18| train_mse: 5.516485638400258e+36| valid_rmsle: 1319.3802| valid_mae: 2.3487199999999764e+18| valid_rmse: 2.348720000000011e+18| valid_mse: 5.516485638400051e+36|  0:00:09s\n",
            "epoch 19 | loss: nan     | train_rmsle: 1323.23077| train_mae: 2.3487200000001193e+18| train_rmse: 2.348720000000055e+18| train_mse: 5.516485638400258e+36| valid_rmsle: 1323.2097| valid_mae: 2.3487199999999795e+18| valid_rmse: 2.348720000000011e+18| valid_mse: 5.516485638400051e+36|  0:00:10s\n",
            "epoch 20 | loss: nan     | train_rmsle: 1327.47955| train_mae: 2.34872000000012e+18| train_rmse: 2.348720000000055e+18| train_mse: 5.516485638400258e+36| valid_rmsle: 1327.17158| valid_mae: 2.3487199999999836e+18| valid_rmse: 2.348720000000011e+18| valid_mse: 5.516485638400051e+36|  0:00:10s\n",
            "epoch 21 | loss: nan     | train_rmsle: 1330.76954| train_mae: 2.34872000000012e+18| train_rmse: 2.348720000000055e+18| train_mse: 5.516485638400258e+36| valid_rmsle: 1330.73299| valid_mae: 2.348719999999984e+18| valid_rmse: 2.348720000000011e+18| valid_mse: 5.516485638400051e+36|  0:00:11s\n",
            "epoch 22 | loss: nan     | train_rmsle: 1334.53115| train_mae: 2.34872000000012e+18| train_rmse: 2.348720000000055e+18| train_mse: 5.516485638400258e+36| valid_rmsle: 1334.49355| valid_mae: 2.3487199999999846e+18| valid_rmse: 2.348720000000011e+18| valid_mse: 5.516485638400051e+36|  0:00:11s\n",
            "epoch 23 | loss: nan     | train_rmsle: 1338.30118| train_mae: 2.348720000000121e+18| train_rmse: 2.348720000000055e+18| train_mse: 5.516485638400258e+36| valid_rmsle: 1338.2664| valid_mae: 2.3487199999999903e+18| valid_rmse: 2.348720000000011e+18| valid_mse: 5.516485638400051e+36|  0:00:12s\n",
            "epoch 24 | loss: nan     | train_rmsle: 1341.07665| train_mae: 2.348720000000121e+18| train_rmse: 2.348720000000055e+18| train_mse: 5.516485638400258e+36| valid_rmsle: 1341.1847| valid_mae: 2.348719999999989e+18| valid_rmse: 2.348720000000011e+18| valid_mse: 5.516485638400051e+36|  0:00:12s\n",
            "epoch 25 | loss: nan     | train_rmsle: 1344.11678| train_mae: 2.348720000000122e+18| train_rmse: 2.348720000000055e+18| train_mse: 5.516485638400258e+36| valid_rmsle: 1344.28645| valid_mae: 2.348719999999996e+18| valid_rmse: 2.348720000000011e+18| valid_mse: 5.516485638400051e+36|  0:00:13s\n",
            "epoch 26 | loss: nan     | train_rmsle: 1347.82026| train_mae: 2.348720000000122e+18| train_rmse: 2.348720000000055e+18| train_mse: 5.516485638400258e+36| valid_rmsle: 1347.94996| valid_mae: 2.34872e+18| valid_rmse: 2.348720000000011e+18| valid_mse: 5.516485638400051e+36|  0:00:13s\n",
            "epoch 27 | loss: nan     | train_rmsle: 1352.6693| train_mae: 2.348720000000123e+18| train_rmse: 2.348720000000055e+18| train_mse: 5.516485638400258e+36| valid_rmsle: 1352.33161| valid_mae: 2.348720000000007e+18| valid_rmse: 2.348720000000011e+18| valid_mse: 5.516485638400051e+36|  0:00:14s\n",
            "epoch 28 | loss: nan     | train_rmsle: 1356.29195| train_mae: 2.348720000000123e+18| train_rmse: 2.348720000000055e+18| train_mse: 5.516485638400258e+36| valid_rmsle: 1355.87198| valid_mae: 2.348720000000007e+18| valid_rmse: 2.348720000000011e+18| valid_mse: 5.516485638400051e+36|  0:00:14s\n",
            "epoch 29 | loss: nan     | train_rmsle: 1359.5032| train_mae: 2.348720000000123e+18| train_rmse: 2.348720000000055e+18| train_mse: 5.516485638400258e+36| valid_rmsle: 1359.20645| valid_mae: 2.3487200000000077e+18| valid_rmse: 2.348720000000011e+18| valid_mse: 5.516485638400051e+36|  0:00:15s\n",
            "epoch 30 | loss: nan     | train_rmsle: 1362.57915| train_mae: 2.348720000000123e+18| train_rmse: 2.348720000000055e+18| train_mse: 5.516485638400258e+36| valid_rmsle: 1362.29217| valid_mae: 2.3487200000000077e+18| valid_rmse: 2.348720000000011e+18| valid_mse: 5.516485638400051e+36|  0:00:16s\n",
            "epoch 31 | loss: nan     | train_rmsle: 1366.51419| train_mae: 2.348720000000123e+18| train_rmse: 2.348720000000055e+18| train_mse: 5.516485638400258e+36| valid_rmsle: 1366.27581| valid_mae: 2.3487200000000087e+18| valid_rmse: 2.348720000000011e+18| valid_mse: 5.516485638400051e+36|  0:00:16s\n",
            "epoch 32 | loss: nan     | train_rmsle: 1372.9388| train_mae: 2.3487200000001234e+18| train_rmse: 2.348720000000055e+18| train_mse: 5.516485638400258e+36| valid_rmsle: 1372.63088| valid_mae: 2.3487200000000113e+18| valid_rmse: 2.348720000000011e+18| valid_mse: 5.516485638400051e+36|  0:00:17s\n",
            "epoch 33 | loss: nan     | train_rmsle: 1375.30072| train_mae: 2.3487200000001234e+18| train_rmse: 2.348720000000055e+18| train_mse: 5.516485638400258e+36| valid_rmsle: 1375.05701| valid_mae: 2.3487200000000113e+18| valid_rmse: 2.348720000000011e+18| valid_mse: 5.516485638400051e+36|  0:00:18s\n",
            "epoch 34 | loss: nan     | train_rmsle: 1377.73503| train_mae: 2.3487200000001234e+18| train_rmse: 2.348720000000055e+18| train_mse: 5.516485638400258e+36| valid_rmsle: 1377.53262| valid_mae: 2.3487200000000113e+18| valid_rmse: 2.348720000000011e+18| valid_mse: 5.516485638400051e+36|  0:00:19s\n",
            "epoch 35 | loss: nan     | train_rmsle: 1380.34684| train_mae: 2.3487200000001234e+18| train_rmse: 2.348720000000055e+18| train_mse: 5.516485638400258e+36| valid_rmsle: 1380.19115| valid_mae: 2.3487200000000133e+18| valid_rmse: 2.348720000000011e+18| valid_mse: 5.516485638400051e+36|  0:00:20s\n",
            "epoch 36 | loss: nan     | train_rmsle: 1383.02338| train_mae: 2.348720000000124e+18| train_rmse: 2.348720000000055e+18| train_mse: 5.516485638400258e+36| valid_rmsle: 1382.90064| valid_mae: 2.3487200000000133e+18| valid_rmse: 2.348720000000011e+18| valid_mse: 5.516485638400051e+36|  0:00:21s\n",
            "epoch 37 | loss: nan     | train_rmsle: 1385.39944| train_mae: 2.348720000000125e+18| train_rmse: 2.348720000000055e+18| train_mse: 5.516485638400258e+36| valid_rmsle: 1385.31329| valid_mae: 2.3487200000000215e+18| valid_rmse: 2.348720000000011e+18| valid_mse: 5.516485638400051e+36|  0:00:22s\n",
            "epoch 38 | loss: nan     | train_rmsle: 1389.18235| train_mae: 2.348720000000125e+18| train_rmse: 2.348720000000055e+18| train_mse: 5.516485638400258e+36| valid_rmsle: 1389.12881| valid_mae: 2.3487200000000215e+18| valid_rmse: 2.348720000000011e+18| valid_mse: 5.516485638400051e+36|  0:00:22s\n",
            "epoch 39 | loss: nan     | train_rmsle: 1392.80014| train_mae: 2.348720000000125e+18| train_rmse: 2.348720000000055e+18| train_mse: 5.516485638400258e+36| valid_rmsle: 1392.78205| valid_mae: 2.3487200000000215e+18| valid_rmse: 2.348720000000011e+18| valid_mse: 5.516485638400051e+36|  0:00:22s\n",
            "epoch 40 | loss: nan     | train_rmsle: 1396.16762| train_mae: 2.3487200000001254e+18| train_rmse: 2.348720000000055e+18| train_mse: 5.516485638400258e+36| valid_rmsle: 1396.18728| valid_mae: 2.3487200000000276e+18| valid_rmse: 2.348720000000011e+18| valid_mse: 5.516485638400051e+36|  0:00:22s\n",
            "epoch 41 | loss: nan     | train_rmsle: 1399.7845| train_mae: 2.348720000000126e+18| train_rmse: 2.348720000000055e+18| train_mse: 5.516485638400258e+36| valid_rmsle: 1399.84043| valid_mae: 2.3487200000000307e+18| valid_rmse: 2.348720000000011e+18| valid_mse: 5.516485638400051e+36|  0:00:23s\n",
            "epoch 42 | loss: nan     | train_rmsle: 1403.47636| train_mae: 2.348720000000126e+18| train_rmse: 2.348720000000055e+18| train_mse: 5.516485638400258e+36| valid_rmsle: 1403.56248| valid_mae: 2.3487200000000307e+18| valid_rmse: 2.348720000000011e+18| valid_mse: 5.516485638400051e+36|  0:00:23s\n",
            "epoch 43 | loss: nan     | train_rmsle: 1406.39973| train_mae: 2.348720000000126e+18| train_rmse: 2.348720000000055e+18| train_mse: 5.516485638400258e+36| valid_rmsle: 1406.52476| valid_mae: 2.3487200000000307e+18| valid_rmse: 2.348720000000011e+18| valid_mse: 5.516485638400051e+36|  0:00:23s\n",
            "epoch 44 | loss: nan     | train_rmsle: 1409.74706| train_mae: 2.348720000000126e+18| train_rmse: 2.348720000000055e+18| train_mse: 5.516485638400258e+36| valid_rmsle: 1409.91573| valid_mae: 2.3487200000000307e+18| valid_rmse: 2.348720000000011e+18| valid_mse: 5.516485638400051e+36|  0:00:23s\n",
            "epoch 45 | loss: nan     | train_rmsle: 1412.6128| train_mae: 2.348720000000126e+18| train_rmse: 2.348720000000055e+18| train_mse: 5.516485638400258e+36| valid_rmsle: 1412.83128| valid_mae: 2.348720000000031e+18| valid_rmse: 2.348720000000011e+18| valid_mse: 5.516485638400051e+36|  0:00:24s\n",
            "epoch 46 | loss: nan     | train_rmsle: 1415.6864| train_mae: 2.348720000000126e+18| train_rmse: 2.348720000000055e+18| train_mse: 5.516485638400258e+36| valid_rmsle: 1415.96244| valid_mae: 2.348720000000031e+18| valid_rmse: 2.348720000000011e+18| valid_mse: 5.516485638400051e+36|  0:00:24s\n",
            "epoch 47 | loss: nan     | train_rmsle: 1418.66212| train_mae: 2.348720000000126e+18| train_rmse: 2.348720000000055e+18| train_mse: 5.516485638400258e+36| valid_rmsle: 1418.99309| valid_mae: 2.348720000000031e+18| valid_rmse: 2.348720000000011e+18| valid_mse: 5.516485638400051e+36|  0:00:24s\n",
            "epoch 48 | loss: nan     | train_rmsle: 1421.63032| train_mae: 2.348720000000126e+18| train_rmse: 2.348720000000055e+18| train_mse: 5.516485638400258e+36| valid_rmsle: 1422.01661| valid_mae: 2.348720000000031e+18| valid_rmse: 2.348720000000011e+18| valid_mse: 5.516485638400051e+36|  0:00:24s\n",
            "epoch 49 | loss: nan     | train_rmsle: 1424.48252| train_mae: 2.348720000000126e+18| train_rmse: 2.348720000000055e+18| train_mse: 5.516485638400258e+36| valid_rmsle: 1424.92662| valid_mae: 2.348720000000031e+18| valid_rmse: 2.348720000000011e+18| valid_mse: 5.516485638400051e+36|  0:00:25s\n",
            "epoch 50 | loss: nan     | train_rmsle: 1427.21909| train_mae: 2.348720000000126e+18| train_rmse: 2.348720000000055e+18| train_mse: 5.516485638400258e+36| valid_rmsle: 1427.72011| valid_mae: 2.348720000000031e+18| valid_rmse: 2.348720000000011e+18| valid_mse: 5.516485638400051e+36|  0:00:25s\n",
            "epoch 51 | loss: nan     | train_rmsle: 1430.28706| train_mae: 2.348720000000126e+18| train_rmse: 2.348720000000055e+18| train_mse: 5.516485638400258e+36| valid_rmsle: 1430.85258| valid_mae: 2.348720000000031e+18| valid_rmse: 2.348720000000011e+18| valid_mse: 5.516485638400051e+36|  0:00:25s\n",
            "epoch 52 | loss: nan     | train_rmsle: 1432.72865| train_mae: 2.348720000000126e+18| train_rmse: 2.348720000000055e+18| train_mse: 5.516485638400258e+36| valid_rmsle: 1433.36713| valid_mae: 2.348720000000031e+18| valid_rmse: 2.348720000000011e+18| valid_mse: 5.516485638400051e+36|  0:00:26s\n",
            "epoch 53 | loss: nan     | train_rmsle: 1435.76612| train_mae: 2.348720000000126e+18| train_rmse: 2.348720000000055e+18| train_mse: 5.516485638400258e+36| valid_rmsle: 1436.47818| valid_mae: 2.348720000000031e+18| valid_rmse: 2.348720000000011e+18| valid_mse: 5.516485638400051e+36|  0:00:26s\n",
            "\n",
            "Early stopping occurred at epoch 53 with best_epoch = 3 and best_valid_mse = 5.516485638400037e+36\n"
          ]
        },
        {
          "output_type": "stream",
          "name": "stderr",
          "text": [
            "/usr/local/lib/python3.9/dist-packages/pytorch_tabnet/callbacks.py:172: UserWarning: Best weights from best epoch are automatically used!\n",
            "  warnings.warn(wrn_msg)\n"
          ]
        }
      ]
    },
    {
      "cell_type": "code",
      "source": [
        "preds = clf.predict(X_test)\n",
        "\n",
        "test_mse = mean_squared_error(y_pred=preds, y_true=y_test)\n",
        "\n",
        "print(f\"BEST VALID SCORE FOR {dataset_name} : {clf.best_cost}\")\n",
        "print(f\"FINAL TEST SCORE FOR {dataset_name} : {test_mse}\")"
      ],
      "metadata": {
        "colab": {
          "base_uri": "https://localhost:8080/"
        },
        "id": "7h9EsgLMheWr",
        "outputId": "ee931618-d462-4356-828c-699e3ac4300f"
      },
      "execution_count": null,
      "outputs": [
        {
          "output_type": "stream",
          "name": "stdout",
          "text": [
            "BEST VALID SCORE FOR electronics-store : 5.516485638400037e+36\n",
            "FINAL TEST SCORE FOR electronics-store : 5.516485638400028e+36\n"
          ]
        }
      ]
    },
    {
      "cell_type": "code",
      "source": [
        "clf.feature_importances_"
      ],
      "metadata": {
        "colab": {
          "base_uri": "https://localhost:8080/"
        },
        "id": "v5s1UAL4hfxS",
        "outputId": "0b1db109-123f-4ad3-909c-99464fbd028d"
      },
      "execution_count": null,
      "outputs": [
        {
          "output_type": "execute_result",
          "data": {
            "text/plain": [
              "array([8.27225931e-02, 9.16773515e-01, 5.03891988e-04])"
            ]
          },
          "metadata": {},
          "execution_count": 38
        }
      ]
    },
    {
      "cell_type": "code",
      "source": [
        "explain_matrix, masks = clf.explain(X_test)"
      ],
      "metadata": {
        "id": "_eSMLHhOhhSL"
      },
      "execution_count": null,
      "outputs": []
    },
    {
      "cell_type": "code",
      "source": [
        "from matplotlib import pyplot as plt\n",
        "%matplotlib inline"
      ],
      "metadata": {
        "id": "KJvPM_wxhix_"
      },
      "execution_count": null,
      "outputs": []
    },
    {
      "cell_type": "code",
      "source": [
        "fig, axs = plt.subplots(1, 3, figsize=(20,20))\n",
        "\n",
        "for i in range(3):\n",
        "    axs[i].imshow(masks[i][:50])\n",
        "    axs[i].set_title(f\"mask {i}\")"
      ],
      "metadata": {
        "colab": {
          "base_uri": "https://localhost:8080/",
          "height": 1000
        },
        "id": "EvXF6yH7hkMn",
        "outputId": "72e860b1-9a65-4653-dc8f-529499d01790"
      },
      "execution_count": null,
      "outputs": [
        {
          "output_type": "display_data",
          "data": {
            "text/plain": [
              "<Figure size 2000x2000 with 3 Axes>"
            ],
            "image/png": "[encoded data removed]"
          },
          "metadata": {}
        }
      ]
    }
  ]
}